{
 "cells": [
  {
   "cell_type": "markdown",
   "id": "e0153104",
   "metadata": {},
   "source": [
    "Post-Processing with Sina\n",
    "=====================\n",
    "\n",
    "This notebook will demonstrate some simple post-processing using Sina. This can be used for things like adding derived quantities to a simulation run."
   ]
  },
  {
   "cell_type": "markdown",
   "id": "08664044",
   "metadata": {},
   "source": [
    "Post-processing a simulation run's output file\n",
    "------------------------------\n",
    "\n",
    "Commonly, simulations output sina.json files that contain a single Record (and no Relationships)--that is, the only thing in them is a single simulation run, and we often want to attach a bit more data to it. This chunk demonstrates how to read, process, and dump Sina without ever interacting with a datastore.\n",
    "\n",
    "NOTE: **We're creating real files here!** Change paths at your peril."
   ]
  },
  {
   "cell_type": "code",
   "execution_count": null,
   "id": "35441eed",
   "metadata": {},
   "outputs": [],
   "source": [
    "import sina\n",
    "import sina.utils\n",
    "\n",
    "# We'll dump sample data here to create our input file. This json is our \"simulation run\".\n",
    "source_path = \"my_sample_simulation.json\"\n",
    "# This is the stringified form of what we'll be dumping, a mockup of some minimal\n",
    "# simulation data. Don't worry about reading it--we'll have it in a clearer form shortly\n",
    "data_to_dump = \"\"\"{\"records\": [{\"id\": \"sample_rec\", \"type\": \"sample\", \"data\": {\"runtime\": {\"value\": 10.5, \"units\": \"s\"}, \"user\": {\"value\": \"Anna Bob\"}, \"volume\": {\"value\": [5, 6, 7, 12]}, \"mass\": {\"value\": [0.5, 0.5, 0.5, 0.5]}}}], \"relationships\": []}\"\"\"\n",
    "with open(source_path, 'w') as f:\n",
    "    f.write(data_to_dump)\n",
    "\n",
    "# We'll write our data to here. In a real workflow, we may want to write back to the\n",
    "# source path, or we may want to keep things \"versioned\", especially if we're still\n",
    "# developing a workflow. We do the latter here. Use whatever works best for you!\n",
    "dest_path = \"my_sample_simulation_post.json\"\n",
    "\n",
    "\n",
    "# We first load up our \"simulation\" output json\n",
    "rec = sina.utils.load_sole_record(source_path)\n",
    "\n",
    "\n",
    "#################################\n",
    "#          Adding Data          #\n",
    "#################################\n",
    "\n",
    "# Now our simulation data is available as a Python object!\n",
    "# Let's add that we're post-processing it, just in case\n",
    "rec.add_data(\"was_post_processed\", True)\n",
    "\n",
    "# Derived quantities are a common case for post-processing.\n",
    "# Let's calculate density and add it to our record.\n",
    "rec.add_data(\"density\", [x / y for x, y in zip(rec.data_values[\"mass\"],\n",
    "                                               rec.data_values[\"volume\"])])\n",
    "\n",
    "\n",
    "#################################\n",
    "#         Updating Data         #\n",
    "#################################\n",
    "\n",
    "# We can update existing data too. Let's add a tag.\n",
    "rec.set_data(\"user\", rec.data_values[\"user\"], tags=[\"metadata\"])\n",
    "\n",
    "# Or how about a unit conversion? Our code output seconds, but we want milliseconds\n",
    "rec.set_data(\"runtime\", rec.data_values[\"runtime\"] * 1000, units=\"ms\")\n",
    "\n",
    "\n",
    "#################################\n",
    "#          Saving Data          #\n",
    "#################################\n",
    "\n",
    "# We're not quite sure about the changes we're making, so we'll save this as\n",
    "# a different record entirely. You don't always want to do this (ex: if you\n",
    "# have both of these in a datastore and make a scatterplot on, say, mass,\n",
    "# it'll find 2x the records to plot), but it's useful in dev.\n",
    "original_rec_id = rec.id\n",
    "rec.id = original_rec_id + (\"_post\")\n",
    "\n",
    "# Now let's dump this back to the filesystem!\n",
    "rec.to_file(dest_path)\n",
    "\n",
    "\n",
    "#################################\n",
    "#           Verifying           #\n",
    "#################################\n",
    "\n",
    "# So, how did we measure up? Let's put both of those in a temporary datastore.\n",
    "ds = sina.connect()\n",
    "ds.records.insert([sina.utils.load_sole_record(source_path),\n",
    "                   sina.utils.load_sole_record(dest_path)])\n",
    "\n",
    "# Queries only return runs that contain the data we want, so we'll only get the edited one\n",
    "print(\"Post-processed record: {}\".format(next(ds.records.find_with_data(was_post_processed=True))))\n",
    "\n",
    "# And of course, our old record still has its pre-edit units\n",
    "print(\"Units for {}'s runtime: {}\"\n",
    "      .format(original_rec_id,\n",
    "              ds.records.get(original_rec_id).data[\"runtime\"][\"units\"]))\n",
    "print(\"Units for {}'s runtime: {}\"\n",
    "      .format(original_rec_id + \"_post\",\n",
    "              ds.records.get(original_rec_id + \"_post\").data[\"runtime\"][\"units\"]))"
   ]
  },
  {
   "cell_type": "markdown",
   "id": "c01c210d",
   "metadata": {},
   "source": [
    "Editing Records within the Datastore\n",
    "--------------\n",
    "\n",
    "Doing things through the datastore is much the same, just without file dumping. We'll keep using our records from above.\n",
    "\n",
    "**Technical note**: so long as you're using MySQL, you can have multiple people editing the database at once. This is very useful for any workflow where things are being automatically added to the database. Not something you have to worry about if you've just got a personal store, of course, but something to keep in mind if you have multiple people sharing ex: a SQLite file (which is not safe for concurrent edits!) "
   ]
  },
  {
   "cell_type": "code",
   "execution_count": null,
   "id": "7f86ec3b",
   "metadata": {},
   "outputs": [],
   "source": [
    "# This object is identical to the state we left `rec` in in the last cell\n",
    "post_processed_rec = ds.records.get(original_rec_id + \"_post\")\n",
    "\n",
    "# That said, it's a new object! Edits made here aren't reflected in `rec`!\n",
    "post_processed_rec.add_data(\"favorite_color\", \"green\")\n",
    "\n",
    "# Edits won't be reflected in the database until we tell it to save our changes\n",
    "# As such, we shouldn't find any that match yet...\n",
    "print(\"Records whose favorite color is green: {} (expect None)\"\n",
    "      .format(list(ds.records.find_with_data(favorite_color=\"green\"))))\n",
    "\n",
    "# Including edits to existing values\n",
    "post_processed_rec.set_data(\"runtime\",\n",
    "                            post_processed_rec.data_values[\"runtime\"] + 100)\n",
    "\n",
    "# Ready to go! We push our changes. Now we'll see a match!\n",
    "ds.records.update(post_processed_rec)\n",
    "print(\"Update pushed!\")\n",
    "print(\"Records whose favorite color is green: {} (expect one)\"\n",
    "      .format(list(ds.records.find_with_data(favorite_color=\"green\"))))"
   ]
  },
  {
   "cell_type": "markdown",
   "id": "3d872444",
   "metadata": {},
   "source": [
    "Both styles of post-processing operate on the same basic concepts. Use whichever fits your workflow! In fact, it's possible to use Sina without any JSON files at all, instead creating Record objects and inserting them straight into the database (as we saw in the [basic usage tutorial](basic_usage.html))."
   ]
  }
 ],
 "metadata": {
  "kernelspec": {
   "display_name": "sina",
   "language": "python",
   "name": "sina"
  },
  "language_info": {
   "codemirror_mode": {
    "name": "ipython",
    "version": 3
   },
   "file_extension": ".py",
   "mimetype": "text/x-python",
   "name": "python",
   "nbconvert_exporter": "python",
   "pygments_lexer": "ipython3",
   "version": "3.8.9"
  }
 },
 "nbformat": 4,
 "nbformat_minor": 5
}
