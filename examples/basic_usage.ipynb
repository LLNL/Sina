{
 "cells": [
  {
   "cell_type": "markdown",
   "metadata": {},
   "source": [
    "Basic Usage\n",
    "===========\n",
    "\n",
    "This notebook will guide you through some of Sina's core functionality. For more examples, including advanced topics like handling large datasets or generating tables, see the example dataset folders (noaa/, fukushima/, etc)."
   ]
  },
  {
   "cell_type": "markdown",
   "metadata": {},
   "source": [
    "Initial Setup\n",
    "-------------\n",
    "We first import one of Sina's backends; we'll use the sql backend for portability. We set up a connection to our database, then use that connection to create a \"RecordDAO\", the core object for inserting, querying, and generally handling Records."
   ]
  },
  {
   "cell_type": "code",
   "execution_count": null,
   "metadata": {},
   "outputs": [],
   "source": [
    "import json\n",
    "import random\n",
    "\n",
    "import sina.datastores.sql as sina\n",
    "from sina.model import Record, generate_record_from_json\n",
    "from sina.utils import DataRange, has_all, has_any, all_in, any_in\n",
    "\n",
    "# By default (without an argument), we open a connection to an in-memory database.\n",
    "# If you'd like to create a file, just provide the filename as an arg. You can also\n",
    "# pass the URL to a database such as MySQL or MariaDB.\n",
    "factory = sina.DAOFactory()\n",
    "\n",
    "record_handler = factory.create_record_dao()\n",
    "\n",
    "print(\"Connection is ready!\")"
   ]
  },
  {
   "cell_type": "markdown",
   "metadata": {},
   "source": [
    "Inserting Our First Records\n",
    "----------------\n",
    "Now that we've got a connection open and our handler ready, we can start inserting Records!. The first we'll create is as simple as possible, but the rest have data attached. We'll insert all of them into our database."
   ]
  },
  {
   "cell_type": "code",
   "execution_count": null,
   "metadata": {},
   "outputs": [],
   "source": [
    "simple_record = Record(id=\"simplest\", type=\"simple_sample\")\n",
    "record_handler.insert(simple_record)\n",
    "\n",
    "possible_maintainers = [\"John Doe\", \"Jane Doe\", \"Gary Stu\", \"Ann Bob\"]\n",
    "num_data_records = 100\n",
    "for val in range(0, num_data_records):\n",
    "    record = Record(id=\"rec_{}\".format(val), type=\"foo_type\")\n",
    "    record.add_data('initial_density', val, units='g/cm^3')\n",
    "    record.add_data('final_volume', random.randint(0, int(num_data_records / 5)))\n",
    "    record.add_data('maintainer', random.choice(possible_maintainers), tags=[\"personnel\"])\n",
    "    record_handler.insert(record)\n",
    "\n",
    "print(\"{} Records have been inserted into the database.\".format(num_data_records + 1))"
   ]
  },
  {
   "cell_type": "markdown",
   "metadata": {},
   "source": [
    "Type-Based Queries and Deleting Records\n",
    "--------------------------------------------------\n",
    "\n",
    "On second thought, the \"simple_sample\" Record isn't useful. Pretending we've forgotten the id we used to create it above, we'll go ahead and find every simple_sample-type Record in our database and delete it."
   ]
  },
  {
   "cell_type": "code",
   "execution_count": null,
   "metadata": {},
   "outputs": [],
   "source": [
    "simple_record_ids = list(record_handler.get_all_of_type(\"simple_sample\", ids_only=True))\n",
    "print(\"Simple_sample Records found: {}\".format(simple_record_ids))\n",
    "\n",
    "print(\"Deleting them all...\")\n",
    "record_handler.delete(simple_record_ids)\n",
    "\n",
    "simple_records_post_delete = list(record_handler.get_all_of_type(\"simple_sample\", ids_only=True))\n",
    "print(\"Simple_sample Records found now: {}\".format(simple_records_post_delete))"
   ]
  },
  {
   "cell_type": "markdown",
   "metadata": {},
   "source": [
    "Finding Records Based on Data\n",
    "=============================\n",
    "The remaining Records in our database represent randomized runs of some imaginary code. John Doe just completed a run of the version he maintains where the final_volume was 6, which seemed a little low. After inserting that Record, he finds all Records in the database that he's maintainer for and which have a volume of 6 or lower."
   ]
  },
  {
   "cell_type": "code",
   "execution_count": null,
   "metadata": {},
   "outputs": [],
   "source": [
    "# Because Record data is represented by a JSON object/Python dictionary, we can also set it up like so:\n",
    "data = {\"final_volume\": {\"value\": 6},\n",
    "        \"initial_density\": {\"value\": 6, \"units\": \"cm^3\"},\n",
    "        \"maintainer\": {\"value\": \"John Doe\"}}\n",
    "record_handler.insert(Record(id=\"john_latest\", type=\"foo_type\", data=data))\n",
    "\n",
    "# Now we'll find matching Records.\n",
    "john_low_volume = record_handler.data_query(maintainer=\"John Doe\",\n",
    "                                            final_volume=DataRange(max=6, max_inclusive=True))\n",
    "\n",
    "print(\"John Doe's low-volume runs: {}\".format(', '.join(john_low_volume)))"
   ]
  },
  {
   "cell_type": "markdown",
   "metadata": {},
   "source": [
    "List Data and Querying Them\n",
    "=======================\n",
    "\n",
    "Some data take the form of a list of entries, either numbers or strings: timeseries, options activated, and nodes in use are a few examples. Sina allows for storing and querying these lists. Note that, to maintain querying efficiency, a list can't have strings AND have scalars AND be queryable; only all-scalar or all-string lists can be part of a Record's data. Mixed-type lists (as well as any other JSON-legal structure) can be stored in a Record's user_defined section instead."
   ]
  },
  {
   "cell_type": "code",
   "execution_count": null,
   "metadata": {},
   "outputs": [],
   "source": [
    "# Records expressed as JSON. We expect records 1 and 3 to match our query.\n",
    "record_1 = \"\"\"{\"id\": \"list_rec_1\",\n",
    "               \"type\": \"list_rec\",\n",
    "               \"data\": {\"options_active\": {\"value\": [\"quickrun\", \"verification\", \"code_test\"]},\n",
    "                        \"velocity\": {\"value\": [0.0, 0.0, 0.0, 0.0, 0.0]}},\n",
    "               \"user_defined\": {\"mixed\": [1, 2, \"upper\"]}}\"\"\"\n",
    "record_2 = \"\"\"{\"id\": \"list_rec_2\",\n",
    "               \"type\": \"list_rec\",\n",
    "               \"data\": {\"options_active\": {\"value\": [\"quickrun\", \"distributed\"]},\n",
    "                        \"velocity\": {\"value\": [0.0, -0.2, -3.1, -12.8, -22.5]}},\n",
    "               \"user_defined\": {\"mixed\": [1, 2, \"upper\"],\n",
    "                                \"nested\": [\"spam\", [\"egg\"]]}}\"\"\"\n",
    "record_3 = \"\"\"{\"id\": \"list_rec_3\",\n",
    "               \"type\": \"list_rec\",\n",
    "               \"data\": {\"options_active\": {\"value\": [\"code_test\", \"quickrun\"]},\n",
    "                        \"velocity\": {\"value\": [0.0, 1.0, 2.0, 3.0, 4.1]}},\n",
    "               \"user_defined\": {\"nested\": [\"spam\", [\"egg\"]],\n",
    "                                \"bool_dict\": {\"my_key\": [true, false]}}}\"\"\"\n",
    "\n",
    "for record in (record_1, record_2, record_3):\n",
    "    record_handler.insert(generate_record_from_json(json.loads(record)))\n",
    "print(\"3 list-containing Records have been inserted into the database.\\n\")\n",
    "\n",
    "# Find all the Records that have both \"quickrun\" and \"code_test\" in their options_active\n",
    "quicktest = record_handler.data_query(options_active=has_all(\"quickrun\",\n",
    "                                                             \"code_test\"))\n",
    "\n",
    "# Get those Records and print their id, value for options_active, and the contents of their user_defined.\\n\",\n",
    "print(\"Records whose traits include 'quickrun' and 'code_test':\\n\")\n",
    "for id in quicktest:\n",
    "    record = record_handler.get(id)\n",
    "    print(\"{} traits: {} | user_defined: {}\".format(id,\n",
    "                                                    ', '.join(record['data']['options_active']['value']),\n",
    "                                                    str(record['user_defined'])))"
   ]
  },
  {
   "cell_type": "markdown",
   "metadata": {},
   "source": [
    "Further List Queries\n",
    "================\n",
    "There are a few additional ways to retrieve Records based on their list data. A `has_any()` query will retrieve any Record that contains *at least* one of its arguments. An `all_in()` query retrieves Records where all members of a scalar list are in some range. An `any_in()` query retrieves Records where one or more members are in the range. Scalar ranges are assumed to be continuous.\n",
    "\n",
    "It's important to note that, for these three types of list query, order and count don't matter. If `[\"quickrun\", \"code_test\"]` would match, so would `[\"code_test\", \"quickrun\", \"quickrun\"]`."
   ]
  },
  {
   "cell_type": "code",
   "execution_count": null,
   "metadata": {},
   "outputs": [],
   "source": [
    "match_has_any = list(record_handler.data_query(options_active=has_any(\"quickrun\", \"code_test\")))\n",
    "print(\"Records whose traits include 'quickrun' and/or 'code_test': {}\".format(', '.join(match_has_any)))\n",
    "\n",
    "\n",
    "match_all_in = list(record_handler.data_query(velocity=all_in(DataRange(min=0, max=0,\n",
    "                                                                        max_inclusive=True))))\n",
    "print(\"Records where velocity never changed from zero: {}\"\n",
    "      .format(', '.join(match_all_in)))\n",
    "\n",
    "\n",
    "match_any_in = list(record_handler.data_query(velocity=any_in(DataRange(min=0, min_inclusive=False))))\n",
    "print(\"Records that had a velocity greater than zero at some point: {}\"\n",
    "      .format(', '.join(match_any_in)))"
   ]
  },
  {
   "cell_type": "markdown",
   "metadata": {},
   "source": [
    "Releasing Resources\n",
    "-------------------------\n",
    "\n",
    "When we are all done, it is important to release database resources. Failure to close connections can result in the server keeping additional resources open, resulting in performance issues."
   ]
  },
  {
   "cell_type": "code",
   "execution_count": null,
   "metadata": {},
   "outputs": [],
   "source": [
    "factory.close()"
   ]
  },
  {
   "cell_type": "markdown",
   "metadata": {},
   "source": [
    "In order to not forget to close them, we can use factories as context managers."
   ]
  },
  {
   "cell_type": "code",
   "execution_count": null,
   "metadata": {},
   "outputs": [],
   "source": [
    "with sina.DAOFactory() as factory:\n",
    "    record_handler = factory.create_record_dao()\n",
    "    # Since we closed the connection above, sqlite dropped the database and we created a new one.\n",
    "    # We need to re-populate it.\n",
    "    for record in (record_1, record_2, record_3):\n",
    "        record_handler.insert(generate_record_from_json(json.loads(record)))\n",
    "    print(list(record_handler.data_query(velocity=any_in(DataRange(min=-10, max=-5)))))"
   ]
  },
  {
   "cell_type": "code",
   "execution_count": null,
   "metadata": {},
   "outputs": [],
   "source": []
  }
 ],
 "metadata": {
  "kernelspec": {
   "display_name": "sina",
   "language": "python",
   "name": "sina"
  },
  "language_info": {
   "codemirror_mode": {
    "name": "ipython",
    "version": 3
   },
   "file_extension": ".py",
   "mimetype": "text/x-python",
   "name": "python",
   "nbconvert_exporter": "python",
   "pygments_lexer": "ipython3",
   "version": "3.6.4"
  }
 },
 "nbformat": 4,
 "nbformat_minor": 2
}
