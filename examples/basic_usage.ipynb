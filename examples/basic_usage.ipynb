{
 "cells": [
  {
   "cell_type": "markdown",
   "metadata": {},
   "source": [
    "Basic Sina Usage\n",
    "==============\n",
    "\n",
    "Welcome to Sina! This tutorial will guide you through its core functionality. If you want to jump right into exploring data (and/or don't expect to interact with the API directly), you may want to jump to the [visualization tutorial](vis_usage.ipynb)."
   ]
  },
  {
   "cell_type": "markdown",
   "metadata": {},
   "source": [
    "## Core Concepts\n",
    "\n",
    "\n",
    "Sina's job is making managing simulation data easier, so we try to keep the process simple:\n",
    "\n",
    "- Sina's \"unit of data\"--the thing you store, retrieve, and ask questions about--is a `Record`. To be brief, **one simulation run is one Record** (but the word Record is more source-agnostic). Essentially, a `Record` is a set of inputs and their corresponding outputs.\n",
    "\n",
    "- **You can work with** `Records` **individually.** Sina gives you a Python object with some nice quality of life methods for post-processing, but under the hood, that Python object is functionally the same JSON your simulation code may be dumping out (they tend to be named `*_sina.json`). Another way of putting it is that **Sina turns your simulation runs into simple Python objects that can be manipulated according to your post-processing needs**.\n",
    "\n",
    "- **Much of Sina's API is dedicated to looking at** `Records` **in aggregate**. Say you've done dozens/hundreds/millions of runs and you want to pick the interesting ones. Sina's API contains a series of \"questions\" you can ask. Which runs had the highest `etot`? Which ended within 300 `cycle`s? Which had `laser_package` turned on and `debug` off?\n",
    "\n",
    "- **A big part of Sina is using these capabilities in tandem**. Use the \"questioning\" part of the API to narrow down which runs you want to look at, then use the returned objects to take a closer look. For example, you get all the runs where `max_temp` went above some number, then use the objects to re-launch with slightly different settings."
   ]
  },
  {
   "cell_type": "markdown",
   "metadata": {},
   "source": [
    "## Building Our \"Simulation Runs\"\n",
    "\n",
    "To keep this tutorial portable and stop it from cluttering up your filesystem, we'll avoid working with real simulation data, instead making a couple \"runs\" from scratch. To start with, we'll make something in the Sina JSON schema, to make it easier to compare it to what a physics code might be putting out:"
   ]
  },
  {
   "cell_type": "code",
   "execution_count": null,
   "metadata": {},
   "outputs": [],
   "source": [
    "import json\n",
    "import random\n",
    "\n",
    "import sina\n",
    "from sina.model import Record, generate_record_from_json\n",
    "from sina.utils import DataRange, has_all, has_any, any_in, all_in\n",
    "\n",
    "simple_record_structure = {\n",
    "    # The id uniquely identifies the run. It's often something like timestamp+UUID\n",
    "    \"id\": \"my_example_breakfast_simulation\",\n",
    "\n",
    "    # The type helps us categorize runs, in case there's several types of \"thing\" in the datastore.\n",
    "    # For example, you might have runs plus information from the msubs that submitted them (\"type\": \"msub\")\n",
    "    \"type\": \"breakfast_sim_run\",\n",
    "\n",
    "    # Data is the meat and potatoes of the run. These are your inputs, outputs, metadata etc. that allow you to\n",
    "    # select a run from the pile. For example, thanks to this data block, we'd be able to pull this record back if\n",
    "    # we asked for all runs with an omelette_count > 1.\n",
    "    \"data\": {\"egg_count\": {\"value\": 10},\n",
    "             \"omelette_count\": {\"value\": 3},\n",
    "             # In addition to a value, entries can have units and tags...we'll hold off for now\n",
    "             \"flavor\": {\"value\": \"tasty!\"}}\n",
    "    # There's other sections we can have in a record (ex: curve_sets), but we'll keep it simple for now!\n",
    "}\n",
    "\n",
    "simple_record = generate_record_from_json(simple_record_structure)\n",
    "\n",
    "print(\"Created a basic record!\")"
   ]
  },
  {
   "cell_type": "markdown",
   "metadata": {},
   "source": [
    "Making Records Programatically\n",
    "--------------------------------------\n",
    "\n",
    "We'll speed things up by generating the rest with Python. These will be a bit more fleshed out, and a bit more realistic--we skip the notion of fiddling with JSON entirely here, making Sina's `Record`s directly. This is a great way to do things if your code is already in Python. Just add in a Record wherever you're defining your inputs and call `add_data` as appropriate.\n",
    "\n",
    "We first create a new Record object (covering the `id` and `type` chunks in the cell above), then assign it some `data`. Realistically, data will be provided by whatever's launching your runs, but here we generate some at random.\n",
    "\n",
    "You could dump any of these Record objects to a JSON file if you like, and they'd be formatted just like what's output by a simulation run--and that simulation run would be formatted just like the output of some other code using Sina. A big part of Sina's power is in the notion of that common file format.\n",
    "\n",
    "We're just making the objects themselves for now. We'll access one to make sure they look alright, and in the next cell, we'll prep them for querying!"
   ]
  },
  {
   "cell_type": "code",
   "execution_count": null,
   "metadata": {},
   "outputs": [],
   "source": [
    "possible_maintainers = [\"John Doe\", \"Jane Doe\", \"Gary Stu\", \"Ann Bob\"]\n",
    "\n",
    "\n",
    "def generate_run(idx):\n",
    "    # Our sample \"code runs\" are mostly random data. We'll generate some inputs...\n",
    "    record = Record(id=\"rec_{}\".format(idx), type=\"foo_prod_run\")\n",
    "    record.add_data('initial_density', random.randint(10, 1000) / 10.0, units='g/cm^3')\n",
    "    record.add_data('num_procs', random.randint(1, 4))\n",
    "    record.add_data('maintainer', random.choice(possible_maintainers), tags=[\"personnel\"])\n",
    "    # Pretend we ran a simulation in here...and add the outputs and artifacts.\n",
    "    if random.randint(1, 6) == 6:\n",
    "        record.add_file(\"{}_log.txt\".format(idx))\n",
    "    record.add_data('final_volume', random.random() * 100)\n",
    "    return record\n",
    "\n",
    "\n",
    "print(\"Defined a function for generating more records!\")\n",
    "\n",
    "test_rec = generate_run(0)\n",
    "print(\"Accessing randomly-generated test record {}. Its initial_density is: {}.\\nRe-running this cell will reroll this value.\"\n",
    "      .format(test_rec.id,\n",
    "              test_rec.data[\"initial_density\"][\"value\"]))"
   ]
  },
  {
   "cell_type": "markdown",
   "metadata": {},
   "source": [
    "## Asking Questions about Our Runs\n",
    "\n",
    "In order to question all our simulation runs at once (ex: which runs had John Doe as a maintainer?), we'll need to let Sina know what runs we want to question. We'll add our simulations to a `datastore`, a generic term for Sina taking data from the JSONs/Records and organizing it in a way that makes asking cross-run questions efficient. This can be done from the command line too, if you prefer (use `sina -h` to access the CLI help or, if you're accessing this through the docs, see [here](../cli_basics.html)).\n",
    "\n",
    "First we connect to an in-memory `datastore`..."
   ]
  },
  {
   "cell_type": "code",
   "execution_count": null,
   "metadata": {},
   "outputs": [],
   "source": [
    "# The default (read: without an argument) behavior of sina.connect() is to connect to an in-memory SQLite database.\n",
    "# These are temporary, wiped from memory once they're closed. Good for tutorials, not so good for data storage!\n",
    "# If you'd like to create a proper file, just provide the filename as an arg: sina.connect(\"my_db.sqlite\")\n",
    "# You can also pass the URL to a database such as MySQL or MariaDB.\n",
    "ds = sina.connect()\n",
    "print(\"Connection is ready!\")"
   ]
  },
  {
   "cell_type": "markdown",
   "metadata": {},
   "source": [
    "...and now we insert our records! We'll first insert our simple record, then use the function we made to generate several more. `num_to_generate` is largely arbitrary, my default of 500 is intended to give a reasonable number of results for the rest of this tutorial."
   ]
  },
  {
   "cell_type": "code",
   "execution_count": null,
   "metadata": {},
   "outputs": [],
   "source": [
    "ds.records.insert(simple_record)\n",
    "print(\"The simple Record has been inserted into the datastore\")\n",
    "\n",
    "num_to_generate = 500\n",
    "\n",
    "for record_idx in range(0, num_to_generate):\n",
    "    ds.records.insert(generate_run(record_idx))\n",
    "\n",
    "print(\"{} randomly-generated Records have been inserted into the datastore.\".format(num_to_generate))"
   ]
  },
  {
   "cell_type": "markdown",
   "metadata": {},
   "source": [
    "### Our first question: finding Records based on data\n",
    "\n",
    "Let's ask a question of all our runs. How many had John Doe as a maintainer? For this, we'll use Sina's `find_with_data()` which, as you might guess, allows us to find runs based on the content of that `data` section we mentioned back in the first code cell.\n",
    "\n",
    "One thing you should notice--we call `list()` on what's returned, as Sina returns generators. Useful for memory efficiency on large queries!"
   ]
  },
  {
   "cell_type": "code",
   "execution_count": null,
   "metadata": {},
   "outputs": [],
   "source": [
    "maintainer_to_query = \"John Doe\"\n",
    "\n",
    "print(\"Found {} runs with {} listed as their maintainer\".format(\n",
    "    len(list(ds.records.find_with_data(maintainer=maintainer_to_query))),\n",
    "    maintainer_to_query))"
   ]
  },
  {
   "cell_type": "markdown",
   "metadata": {},
   "source": [
    "### Our second question: finding Records based on more complicated criteria\n",
    "\n",
    "What John's really interested in is runs where the `final_volume` seemed low. Anything with a volume of 6 or below is low for our fake simulation, so we'll get those.\n",
    "\n",
    "John did a few diagnostic runs that he'd like to exclude from the set, so we'll also make sure we only select Records with a type of `foo_prod_run`.\n",
    "\n",
    "This time, we'll use `find()`! It's Sina's most powerful and flexible query, blending together a number of others (including `find_with_data()`) into one efficient mega-query. Here, it'll let us query on a Record's data and its type at the same time.\n",
    "\n",
    "We'll also make our first use of `DataRange`s. These are exactly what they sound like--objects that let us specify that some quantity should fall within a range. DataRanges allow you to configure the min and max behavior (inclusive vs. exclusive). By default, it's min inclusive, max exclusive, same as `range()`.\n",
    "\n",
    "One last note! `ids_only=True`: recall that simulation runs are stored into Python objects. Sina's queries are happy to give you those objects directly, but sometimes we only want the ids associated with them. Using `ids_only=True` where appropriate can really speed up your queries."
   ]
  },
  {
   "cell_type": "code",
   "execution_count": null,
   "metadata": {},
   "outputs": [],
   "source": [
    "# Let's throw an extra record in there to be sure we have at least one match!\n",
    "template_rec = Record(id=\"john_latest\", type=\"foo_prod_run\")\n",
    "template_rec.add_data(\"final_volume\", 6)\n",
    "template_rec.add_data(\"initial_density\", 6, units=\"cm^3\")\n",
    "template_rec.add_data(\"maintainer\", \"John Doe\")\n",
    "\n",
    "ds.records.insert(template_rec)\n",
    "\n",
    "# John's diagnostic run! \"Coincidentally\" looks very similar to the above. We don't want this one, though!\n",
    "# Since we're changing the id, the datastore will see this as an entirely new run.\n",
    "template_rec.id = \"dont_fetch_me\"\n",
    "template_rec.type = \"foo_diagnostic\"\n",
    "ds.records.insert(template_rec)\n",
    "\n",
    "# Now we prepare a dictionary of criteria. This is equivalent to:\n",
    "# find_with_data(maintainer=\"John Doe\", final_volume=DataRange(max=6, max_inclusive=True))\n",
    "# However, find() is more flexible than find_with_data()--we pass data criteria as a dict so we can combine them\n",
    "# with other things (here, record types). Combined queries tend to be more efficient!\n",
    "target_data = {\"maintainer\": \"John Doe\",\n",
    "               \"final_volume\": DataRange(max=6, max_inclusive=True)}\n",
    "\n",
    "john_low_volume = ds.records.find(data=target_data, types=\"foo_prod_run\", ids_only=True)\n",
    "\n",
    "print(\"John Doe's low-volume production runs: {}\".format(', '.join(john_low_volume)))"
   ]
  },
  {
   "cell_type": "markdown",
   "metadata": {},
   "source": [
    "### An aside: run management\n",
    "\n",
    "\n",
    "Sometimes we want to alter the runs in our datastore. For example, we don't really want that `foo_diagnostic` kicking around in our \"production\" database. We can delete (and update!) things within Sina, but I ALWAYS recommend keeping backups. If you want to ensure you don't do anything by accident, when you connect(), do `connect(read_only=True)`. We didn't do that there, so we can delete away."
   ]
  },
  {
   "cell_type": "code",
   "execution_count": null,
   "metadata": {},
   "outputs": [],
   "source": [
    "ds.records.delete(\"dont_fetch_me\")"
   ]
  },
  {
   "cell_type": "markdown",
   "metadata": {},
   "source": [
    "Really getting into the weeds here, but if you're worried about someone accidentally wiping out your data, you can lock it down using MySQL users. Setting up a MySQL database is out of scope for these tutorials, but LC users should visit [LaunchIT](https://launchit.llnl.gov) for up-to-date documentation."
   ]
  },
  {
   "cell_type": "markdown",
   "metadata": {},
   "source": [
    "### Special queries\n",
    "\n",
    "John's still curious about how low the `final_volume` can be, regardless of who ran them. Sina was designed with these sorts of questions in mind--there are specialized query functions for performing common selections like \"Records with the <number> lowest values for X\" or \"ALL records in the datastore\", which can be put to even further uses with args (ex: you can get the total number of records with `len(list(ds.records.get_all(ids_only=True)))`). See the [datastore documentation](../generated_docs/sina.datastore.rst) for the full list!"
   ]
  },
  {
   "cell_type": "code",
   "execution_count": null,
   "metadata": {},
   "outputs": [],
   "source": [
    "# John wants the 3 Records with the lowest volumes.\n",
    "runs_with_lowest_volumes = ds.records.find_with_min(\"final_volume\", 3)\n",
    "print(\"The runs with the lowest volume:\")\n",
    "for run in runs_with_lowest_volumes:\n",
    "    print(\"{}: {} (maintainer: {})\".format(run.id,\n",
    "                                           run.data[\"final_volume\"][\"value\"],\n",
    "                                           run.data[\"maintainer\"][\"value\"]))"
   ]
  },
  {
   "cell_type": "markdown",
   "metadata": {},
   "source": [
    "### Congratulations, that's the basic basics!\n",
    "\n",
    "In order to serve diverse data and ask diverse questions, Sina has many more queries and capabilities included. While the rest of this tutorial is still \"basic usage\", not all sections will apply to all users, and the topics covered so far (building Records, inserting them, and querying them) form the backbone of Sina.\n",
    "\n",
    "If you'd like to break away from this tutorial to try working with your own data, this is a natural point to do so. You may also want to check out the [visualization tutorial](vis_usage.ipynb), as the combination of that and the topics we've covered may be enough to get you started on a custom \"dashboard\" for your project.\n",
    "\n",
    "Otherwise, we'll now move on to topics like combining queries, querying list data (ex: timeseries), handling data from libraries, associating sets of curves, and more!"
   ]
  },
  {
   "cell_type": "markdown",
   "metadata": {},
   "source": [
    "### Combining queries\n",
    "\n",
    "Not every query can be predicted, and we try to keep the main API simple. This is where Sina's Python nature comes in handy! Data can be handled and transformed, and queries can be cast to sets to combine them.\n",
    "\n",
    "Seeing that he may not be the only one with this issue, John decides to investigate further. While they don't record initial mass, he knows he can find it from `density` and `volume` (mass is conserved throughout the simulation), and that an initial mass below 45 indicates that something strange has happened. So he first finds all runs where `(initial_density*final_volume)<45`, then figures which of those, if any, belong to him.\n",
    "\n",
    "To save time in the future, John might want to add the `initial_mass` he calculated to the Record, then `update()` the datastore with it. See the [post-processing tutorial](post_processing.ipynb) for more details!"
   ]
  },
  {
   "cell_type": "code",
   "execution_count": null,
   "metadata": {},
   "outputs": [],
   "source": [
    "# First we get the data we'll need\n",
    "record_data = ds.records.get_data([\"final_volume\", \"initial_density\"])\n",
    "low_mass_records = set()\n",
    "\n",
    "# Then we go entry-by-entry, calculating the mass associated with each record id\n",
    "# We'll use this to assemble a set of runs with mass < 45\n",
    "for rec_id, data_dict in record_data.items():\n",
    "    mass = data_dict[\"initial_density\"][\"value\"] * data_dict[\"final_volume\"][\"value\"]\n",
    "    if mass < 45:\n",
    "        low_mass_records.add(rec_id)\n",
    "print(\"Low-mass runs: {}\".format(low_mass_records))\n",
    "\n",
    "# Now that we have our set of low mass runs, we'll intersect it with the set of John's runs\n",
    "john_runs = list(ds.records.find_with_data(maintainer=\"John Doe\"))\n",
    "print(\"John's low-mass runs: {}\".format(low_mass_records.intersection(john_runs)))"
   ]
  },
  {
   "cell_type": "markdown",
   "metadata": {},
   "source": [
    "That done, keep in mind that Sina's `find()` allows you to combine multiple different queries, returning only Records that fulfill ALL your criteria. John's use of set operations allows him to do things not supported directly by Sina (like arbitrary calculations \"within\" a query), while `find()` is typically more efficient than set operations in terms of both performance and memory. Each has its uses!\n",
    "\n",
    "For another `find()` example, Ann is doing some debugging and wants runs done on a certain number of processors, but only if they output a log."
   ]
  },
  {
   "cell_type": "code",
   "execution_count": null,
   "metadata": {},
   "outputs": [],
   "source": [
    "target_num_procs = 1\n",
    "\n",
    "ann_runs = ds.records.find(data={\"num_procs\": target_num_procs},\n",
    "                           types=[\"foo_prod_run\"],\n",
    "                           file_uri=\"%_log.txt\",\n",
    "                           ids_only=True)\n",
    "\n",
    "print(\"Ann's target runs: {}\".format(list(ann_runs)))"
   ]
  },
  {
   "cell_type": "markdown",
   "metadata": {},
   "source": [
    "## List Data and Querying Them\n",
    "\n",
    "Of course, Sina also supports storing and querying list-type data: timeseries, options activated, and nodes being a few examples. Note that, to maintain querying efficiency, a list can't have strings AND have scalars AND be queryable; only all-scalar or all-string lists can be part of a Record's data."
   ]
  },
  {
   "cell_type": "code",
   "execution_count": null,
   "metadata": {},
   "outputs": [],
   "source": [
    "# Records expressed as JSON strings. We expect records 1 and 3 to match our query.\n",
    "record_1 = \"\"\"{\"id\": \"list_rec_1\",\n",
    "               \"type\": \"list_rec\",\n",
    "               \"data\": {\"options_active\": {\"value\": [\"quickrun\", \"verification\", \"code_test\"]},\n",
    "                        \"velocity\": {\"value\": [0.0, 0.0, 0.0, 0.0, 0.0]}},\n",
    "               \"user_defined\": {\"mixed\": [1, 2, \"upper\"]}}\"\"\"\n",
    "record_2 = \"\"\"{\"id\": \"list_rec_2\",\n",
    "               \"type\": \"list_rec\",\n",
    "               \"data\": {\"options_active\": {\"value\": [\"quickrun\", \"distributed\"]},\n",
    "                        \"velocity\": {\"value\": [0.0, -0.2, -3.1, -12.8, -22.5]}},\n",
    "               \"user_defined\": {\"mixed\": [1, 2, \"upper\"],\n",
    "                                \"nested\": [\"spam\", [\"egg\"]]}}\"\"\"\n",
    "record_3 = \"\"\"{\"id\": \"list_rec_3\",\n",
    "               \"type\": \"list_rec\",\n",
    "               \"data\": {\"options_active\": {\"value\": [\"code_test\", \"quickrun\"]},\n",
    "                        \"velocity\": {\"value\": [0.0, 1.0, 2.0, 3.0, 4.1]}},\n",
    "               \"user_defined\": {\"nested\": [\"spam\", [\"egg\"]],\n",
    "                                \"bool_dict\": {\"my_key\": [true, false]}}}\"\"\"\n",
    "\n",
    "for record in (record_1, record_2, record_3):\n",
    "    ds.records.insert(generate_record_from_json(json.loads(record)))\n",
    "print(\"3 list-containing Records have been inserted into the database.\\n\")\n",
    "\n",
    "# Find all the Records that have both \"quickrun\" and \"code_test\" in their options_active\n",
    "quicktest = ds.records.find_with_data(options_active=has_all(\"quickrun\", \"code_test\"))\n",
    "\n",
    "# Get those Records and print their id, value for options_active, and the contents of their user_defined.\\n\",\n",
    "print(\"Records whose traits include 'quickrun' and 'code_test':\\n\")\n",
    "for id in quicktest:\n",
    "    record = ds.records.get(id)\n",
    "    print(\"{} traits: {} | user_defined: {}\".format(id,\n",
    "                                                    ', '.join(record['data']['options_active']['value']),\n",
    "                                                    str(record['user_defined'])))"
   ]
  },
  {
   "cell_type": "markdown",
   "metadata": {},
   "source": [
    "### Further List Queries\n",
    "\n",
    "There are a few additional ways to retrieve Records based on their list data. A `has_any()` query works on string lists, and will retrieve any Record that contains *at least* one of its args. An `all_in()` query retrieves Records where all members of a scalar list are in some range, while `any_in()` retrieves Records where one or more scalars are in the range. **Scalar ranges are assumed to be continuous.**\n",
    "\n",
    "It's important to note that, for these types of list query, order and count don't matter. If `[\"quickrun\", \"code_test\"]` would match, so would `[\"code_test\", \"quickrun\", \"quickrun\"]`."
   ]
  },
  {
   "cell_type": "code",
   "execution_count": null,
   "metadata": {},
   "outputs": [],
   "source": [
    "match_has_any = list(ds.records.find_with_data(options_active=has_any(\"quickrun\", \"code_test\")))\n",
    "print(\"Records whose traits include 'quickrun' and/or 'code_test': {}\".format(', '.join(match_has_any)))\n",
    "\n",
    "\n",
    "match_all_in = list(ds.records.find_with_data(velocity=all_in(DataRange(min=0, max=0, max_inclusive=True))))\n",
    "print(\"Records where velocity never changed from zero: {}\"\n",
    "      .format(', '.join(match_all_in)))\n",
    "\n",
    "\n",
    "match_any_in = list(ds.records.find_with_data(velocity=any_in(DataRange(min=0, min_inclusive=False))))\n",
    "print(\"Records that had a velocity greater than zero at some point: {}\"\n",
    "      .format(', '.join(match_any_in)))"
   ]
  },
  {
   "cell_type": "markdown",
   "metadata": {},
   "source": [
    "## Curve_Set Basics\n",
    "\n",
    "Sina can also store *collections* of list data. These \"curve sets\" are useful for tracking relationships between curves for ex: plotting. They're not themselves used in many queries, but their list data are available through the aforementioned list queries. If you're familiar with ULTRA files and PyDV, curve_sets are our way of storing that form of data (and integrating with PyDV)."
   ]
  },
  {
   "cell_type": "code",
   "execution_count": null,
   "metadata": {},
   "outputs": [],
   "source": [
    "curve_rec = Record(\"curve_rec\", \"curve_rec\")\n",
    "# Note that similar methods (ex: add_file()) exist for other\n",
    "# types of record info. Raw JSON is used in this notebook\n",
    "# for at-a-glance readability, but the utility methods\n",
    "# are generally recommended for \"real\" code.\n",
    "sample_curve_set = curve_rec.add_curve_set(\"sample_curves\")\n",
    "sample_curve_set.add_independent(\"time\", [0, 1, 2])\n",
    "sample_curve_set.add_dependent(\"amount\", [12, 14, 7])\n",
    "\n",
    "ds.records.insert(curve_rec)\n",
    "rec_with_curve_id = ds.records.find_with_data(amount=any_in(DataRange(min=12)))\n",
    "print('Records with an \"amount\" >= 12 at some point: {}'\n",
    "      .format(list(rec_with_curve_id)))"
   ]
  },
  {
   "cell_type": "markdown",
   "metadata": {},
   "source": [
    "## Library Data Basics\n",
    "\n",
    "In the case of simulations and similar, where an experiment may be the result of code components working together, consider using Sina's `library_data`. This allows for the grouping of data by source *within* a Record without fear of name collision with other groups, which is, true to name, most associated with libraries within a simulation.\n",
    "\n",
    "Here we have a record, `library_rec`, with a library named `outer_lib` that wants to store its runtime, and an additional library, `inner_lib`, that wants to store ITS runtime. Of course, `library_rec` ALSO has a runtime. Using `library_data`, we can ensure that all three can be accessed."
   ]
  },
  {
   "cell_type": "code",
   "execution_count": null,
   "metadata": {},
   "outputs": [],
   "source": [
    "library_data_rec = \"\"\"{\"id\": \"library_rec\",\n",
    "                       \"type\": \"library_rec\",\n",
    "                       \"data\": {\"runtime\": {\"value\": 12}},\n",
    "                       \"library_data\": {\n",
    "                           \"outer_lib\": {\n",
    "                               \"data\": {\"runtime\": {\"value\": 10}},\n",
    "                               \"library_data\": {\n",
    "                                   \"inner_lib\": {\n",
    "                                       \"data\": {\"runtime\": {\"value\": 4}}}}}}}\"\"\"\n",
    "ds.records.insert(generate_record_from_json(json.loads(library_data_rec)))\n",
    "\n",
    "runtimes = ds.records.get_data([\"runtime\", \"outer_lib/inner_lib/runtime\"])\n",
    "print('Runtimes of the record itself, plus that of \"inner_lib\":')\n",
    "for key in runtimes[\"library_rec\"].keys():\n",
    "    print(key, runtimes[\"library_rec\"][key][\"value\"])"
   ]
  },
  {
   "cell_type": "markdown",
   "metadata": {},
   "source": [
    "## Releasing Resources\n",
    "\n",
    "When we're all done, it's important to release database resources. Failure to close connections can result in the server keeping additional resources open, resulting in performance issues."
   ]
  },
  {
   "cell_type": "code",
   "execution_count": null,
   "metadata": {},
   "outputs": [],
   "source": [
    "ds.close()"
   ]
  },
  {
   "cell_type": "markdown",
   "metadata": {},
   "source": [
    "In order to not forget to close them, we can use our datastores in context managers."
   ]
  },
  {
   "cell_type": "code",
   "execution_count": null,
   "metadata": {},
   "outputs": [],
   "source": [
    "with sina.connect() as ds:\n",
    "    # Since we closed the connection above, sqlite dropped the database and we created a new one.\n",
    "    # We need to re-populate it.\n",
    "    # This only happens with in-memory databases, of course! You're probably not using one.\n",
    "    for record in (record_1, record_2, record_3):\n",
    "        # We'll re-insert the records from List Data and Querying Them\n",
    "        ds.records.insert(generate_record_from_json(json.loads(record)))\n",
    "    print(list(ds.records.find_with_data(velocity=any_in(DataRange(min=-10, max=-5)))))\n",
    "# Once we exit the context, since it's an in-memory db, it's once again dropped."
   ]
  },
  {
   "cell_type": "markdown",
   "metadata": {},
   "source": [
    "That's all for this tutorial. Thanks for your time, and good luck!"
   ]
  }
 ],
 "metadata": {
  "kernelspec": {
   "display_name": "sina",
   "language": "python",
   "name": "sina"
  },
  "language_info": {
   "codemirror_mode": {
    "name": "ipython",
    "version": 3
   },
   "file_extension": ".py",
   "mimetype": "text/x-python",
   "name": "python",
   "nbconvert_exporter": "python",
   "pygments_lexer": "ipython3",
   "version": "3.8.9"
  }
 },
 "nbformat": 4,
 "nbformat_minor": 2
}
