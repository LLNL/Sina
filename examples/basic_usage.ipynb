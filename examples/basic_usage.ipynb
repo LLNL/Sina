{
 "cells": [
  {
   "cell_type": "markdown",
   "metadata": {},
   "source": [
    "Sina Basic Usage\n",
    "==============\n",
    "\n",
    "This notebook will guide you through some of Sina's core functionality. For more examples, including advanced topics like handling large datasets or generating tables, see the example dataset folders (noaa/, fukushima/, etc)."
   ]
  },
  {
   "cell_type": "markdown",
   "metadata": {},
   "source": [
    "Initial Setup\n",
    "=========\n",
    "We first import one of Sina's backends--we'll use SQL (specifically SQLite) for simplicity, since it comes \"default\" with Sina. We set up a connection to our database, then use that connection to create a \"RecordDAO\", the core object for inserting, querying, and generally handling Records. The import statement and factory creation are the only backend-specific portions of Sina. Everything else in this tutorial should apply to all backends equally."
   ]
  },
  {
   "cell_type": "code",
   "execution_count": null,
   "metadata": {},
   "outputs": [],
   "source": [
    "import json\n",
    "import random\n",
    "\n",
    "import sina\n",
    "from sina.model import Record, generate_record_from_json\n",
    "from sina.utils import DataRange, has_all, has_any, all_in, any_in\n",
    "\n",
    "# The default (read: without an argument) behavior of sina.connect()\n",
    "# is to connect to an in-memory SQLite database. If you'd like to create a file, just provide\n",
    "# the filename as an arg. You can also pass the URL to a database such as MySQL or MariaDB.\n",
    "\n",
    "ds = sina.connect()\n",
    "record_handler = ds.records\n",
    "\n",
    "print(\"Connection is ready!\")"
   ]
  },
  {
   "cell_type": "markdown",
   "metadata": {},
   "source": [
    "Inserting Our First Records\n",
    "----------------\n",
    "Now that we've got a connection open and our handler ready, we can start inserting Records!. The first we'll create is as simple as possible, but the rest have data attached. We'll insert all of them into our database."
   ]
  },
  {
   "cell_type": "code",
   "execution_count": null,
   "metadata": {},
   "outputs": [],
   "source": [
    "simple_record = Record(id=\"simplest\", type=\"simple_sample\")\n",
    "record_handler.insert(simple_record)\n",
    "\n",
    "possible_maintainers = [\"John Doe\", \"Jane Doe\", \"Gary Stu\", \"Ann Bob\"]\n",
    "num_data_records = 100\n",
    "for val in range(0, num_data_records):\n",
    "    # Our sample \"code runs\" are mostly random data\n",
    "    record = Record(id=\"rec_{}\".format(val), type=\"foo_type\")\n",
    "    record.add_data('initial_density', random.randint(10, 1000) / 10.0, units='g/cm^3')\n",
    "    record.add_data('final_volume', random.randint(1, int(num_data_records / 5)))\n",
    "    record.add_data('maintainer', random.choice(possible_maintainers), tags=[\"personnel\"])\n",
    "    record_handler.insert(record)\n",
    "\n",
    "print(\"{} Records have been inserted into the database.\".format(num_data_records + 1))"
   ]
  },
  {
   "cell_type": "markdown",
   "metadata": {},
   "source": [
    "Type-Based Queries and Deleting Records\n",
    "--------------------------------------------------\n",
    "\n",
    "On second thought, the \"simple_sample\" Record isn't useful. Pretending we've forgotten the id we used to create it above, we'll go ahead and find every simple_sample-type Record in our database and delete it."
   ]
  },
  {
   "cell_type": "code",
   "execution_count": null,
   "metadata": {},
   "outputs": [],
   "source": [
    "simple_record_ids = list(record_handler.find_with_type(\"simple_sample\", ids_only=True))\n",
    "print(\"Simple_sample Records found: {}\".format(simple_record_ids))\n",
    "\n",
    "print(\"Deleting them all...\")\n",
    "record_handler.delete(simple_record_ids)\n",
    "\n",
    "simple_records_post_delete = list(record_handler.find_with_type(\"simple_sample\", ids_only=True))\n",
    "print(\"Simple_sample Records found now: {}\".format(simple_records_post_delete))"
   ]
  },
  {
   "cell_type": "markdown",
   "metadata": {},
   "source": [
    "Finding Records Based on Data\n",
    "=========================\n",
    "The remaining Records in our database represent randomized runs of some imaginary code. We can use their inputs and outputs to select runs we're particularly interested in.\n",
    "\n",
    "Basic data query\n",
    "--------------------\n",
    "John Doe just completed a run of the version he maintains where the final_volume was 6, which seemed a little low. After inserting that Record, he finds all Records in the database that he's maintainer for and which have a volume of 6 or lower."
   ]
  },
  {
   "cell_type": "code",
   "execution_count": null,
   "metadata": {},
   "outputs": [],
   "source": [
    "# Because Record data is represented by a JSON object/Python dictionary, we can also set it up like so:\n",
    "data = {\"final_volume\": {\"value\": 6},\n",
    "        \"initial_density\": {\"value\": 6, \"units\": \"cm^3\"},\n",
    "        \"maintainer\": {\"value\": \"John Doe\"}}\n",
    "record_handler.insert(Record(id=\"john_latest\", type=\"foo_type\", data=data))\n",
    "\n",
    "# Now we'll find matching Records.\n",
    "john_low_volume = record_handler.find_with_data(maintainer=\"John Doe\",\n",
    "                                                final_volume=DataRange(max=6, max_inclusive=True))\n",
    "\n",
    "print(\"John Doe's low-volume runs: {}\".format(', '.join(john_low_volume)))"
   ]
  },
  {
   "cell_type": "markdown",
   "metadata": {},
   "source": [
    "Specialized queries\n",
    "-----------------------\n",
    "\n",
    "John's still curious about how low the final_volume can be, regardless of who ran them. Sina was designed with these sorts of questions in mind--there are specialized query functions for performing common selections like \"Records with the <number> lowest values for <datum name>\". See the documentation for the full list!"
   ]
  },
  {
   "cell_type": "code",
   "execution_count": null,
   "metadata": {},
   "outputs": [],
   "source": [
    "# John wants the 3 Records with the lowest volumes.\n",
    "runs_with_lowest_volumes = record_handler.find_with_min(\"final_volume\", 3)\n",
    "for run in runs_with_lowest_volumes:\n",
    "    print(\"{}: {} (maintainer: {})\".format(run.id,\n",
    "                                           run.data[\"final_volume\"][\"value\"],\n",
    "                                           run.data[\"maintainer\"][\"value\"]))"
   ]
  },
  {
   "cell_type": "markdown",
   "metadata": {},
   "source": [
    "Complicated & combined queries\n",
    "---------------------------------------\n",
    "\n",
    "Of course, not every query can be predicted, and mathematical expressions especially can be too complicated to express cleanly in a function. This is where Sina's Python nature comes in handy. Data can be handled and transformed, and queries can be cast to sets to combine them.\n",
    "\n",
    "Seeing that he may not be the only one with this issue, John decides to investigate further. While they don't record initial_mass, he knows he can find it from density and volume (mass is conserved throughout the simulation), and that an initial_mass below 45 indicates that something strange has happened. So he first finds all runs where (initial_density\\*final_volume)<45, then figures which of those, if any, belong to him."
   ]
  },
  {
   "cell_type": "code",
   "execution_count": null,
   "metadata": {},
   "outputs": [],
   "source": [
    "record_data = record_handler.get_data([\"final_volume\", \"initial_density\"])\n",
    "low_mass_records = set()\n",
    "for rec_id, data_dict in record_data.items():\n",
    "    mass = data_dict[\"initial_density\"][\"value\"] * data_dict[\"final_volume\"][\"value\"]\n",
    "    if mass < 45:\n",
    "        low_mass_records.add(rec_id)\n",
    "print(\"Low-mass runs: {}\".format(low_mass_records))\n",
    "\n",
    "john_runs = list(record_handler.find_with_data(maintainer=\"John Doe\"))\n",
    "print(\"John's low-mass runs: {}\".format(low_mass_records.intersection(john_runs)))"
   ]
  },
  {
   "cell_type": "markdown",
   "metadata": {},
   "source": [
    "List Data and Querying Them\n",
    "----------------------------------\n",
    "\n",
    "Some data take the form of a list of entries, either numbers or strings: timeseries, options activated, and nodes in use are a few examples. Sina allows for storing and querying these lists. Note that, to maintain querying efficiency, a list can't have strings AND have scalars AND be queryable; only all-scalar or all-string lists can be part of a Record's data. Mixed-type lists (as well as any other JSON-legal structure) can be stored in a Record's user_defined section instead."
   ]
  },
  {
   "cell_type": "code",
   "execution_count": null,
   "metadata": {},
   "outputs": [],
   "source": [
    "# Records expressed as JSON. We expect records 1 and 3 to match our query.\n",
    "record_1 = \"\"\"{\"id\": \"list_rec_1\",\n",
    "               \"type\": \"list_rec\",\n",
    "               \"data\": {\"options_active\": {\"value\": [\"quickrun\", \"verification\", \"code_test\"]},\n",
    "                        \"velocity\": {\"value\": [0.0, 0.0, 0.0, 0.0, 0.0]}},\n",
    "               \"user_defined\": {\"mixed\": [1, 2, \"upper\"]}}\"\"\"\n",
    "record_2 = \"\"\"{\"id\": \"list_rec_2\",\n",
    "               \"type\": \"list_rec\",\n",
    "               \"data\": {\"options_active\": {\"value\": [\"quickrun\", \"distributed\"]},\n",
    "                        \"velocity\": {\"value\": [0.0, -0.2, -3.1, -12.8, -22.5]}},\n",
    "               \"user_defined\": {\"mixed\": [1, 2, \"upper\"],\n",
    "                                \"nested\": [\"spam\", [\"egg\"]]}}\"\"\"\n",
    "record_3 = \"\"\"{\"id\": \"list_rec_3\",\n",
    "               \"type\": \"list_rec\",\n",
    "               \"data\": {\"options_active\": {\"value\": [\"code_test\", \"quickrun\"]},\n",
    "                        \"velocity\": {\"value\": [0.0, 1.0, 2.0, 3.0, 4.1]}},\n",
    "               \"user_defined\": {\"nested\": [\"spam\", [\"egg\"]],\n",
    "                                \"bool_dict\": {\"my_key\": [true, false]}}}\"\"\"\n",
    "\n",
    "for record in (record_1, record_2, record_3):\n",
    "    record_handler.insert(generate_record_from_json(json.loads(record)))\n",
    "print(\"3 list-containing Records have been inserted into the database.\\n\")\n",
    "\n",
    "# Find all the Records that have both \"quickrun\" and \"code_test\" in their options_active\n",
    "quicktest = record_handler.find_with_data(options_active=has_all(\"quickrun\", \"code_test\"))\n",
    "\n",
    "# Get those Records and print their id, value for options_active, and the contents of their user_defined.\\n\",\n",
    "print(\"Records whose traits include 'quickrun' and 'code_test':\\n\")\n",
    "for id in quicktest:\n",
    "    record = record_handler.get(id)\n",
    "    print(\"{} traits: {} | user_defined: {}\".format(id,\n",
    "                                                    ', '.join(record['data']['options_active']['value']),\n",
    "                                                    str(record['user_defined'])))"
   ]
  },
  {
   "cell_type": "markdown",
   "metadata": {},
   "source": [
    "Further List Queries\n",
    "-----------------------\n",
    "There are a few additional ways to retrieve Records based on their list data. A `has_any()` query will retrieve any Record that contains *at least* one of its arguments. An `all_in()` query retrieves Records where all members of a scalar list are in some range. An `any_in()` query retrieves Records where one or more members are in the range. Scalar ranges are assumed to be continuous.\n",
    "\n",
    "It's important to note that, for these three types of list query, order and count don't matter. If `[\"quickrun\", \"code_test\"]` would match, so would `[\"code_test\", \"quickrun\", \"quickrun\"]`."
   ]
  },
  {
   "cell_type": "code",
   "execution_count": null,
   "metadata": {},
   "outputs": [],
   "source": [
    "match_has_any = list(record_handler.find_with_data(options_active=has_any(\"quickrun\", \"code_test\")))\n",
    "print(\"Records whose traits include 'quickrun' and/or 'code_test': {}\".format(', '.join(match_has_any)))\n",
    "\n",
    "\n",
    "match_all_in = list(record_handler.find_with_data(velocity=all_in(DataRange(min=0, max=0,\n",
    "                                                                  max_inclusive=True))))\n",
    "print(\"Records where velocity never changed from zero: {}\"\n",
    "      .format(', '.join(match_all_in)))\n",
    "\n",
    "\n",
    "match_any_in = list(record_handler.find_with_data(velocity=any_in(DataRange(min=0, min_inclusive=False))))\n",
    "print(\"Records that had a velocity greater than zero at some point: {}\"\n",
    "      .format(', '.join(match_any_in)))"
   ]
  },
  {
   "cell_type": "markdown",
   "metadata": {},
   "source": [
    "Curveset Basics\n",
    "=============\n",
    "\n",
    "Sina can also store *collections* of list data. These \"curve sets\" are useful for tracking relationships between curves for ex: plotting. They're not themselves used in many queries, but their list data is available through the aforementioned list queries."
   ]
  },
  {
   "cell_type": "code",
   "execution_count": null,
   "metadata": {},
   "outputs": [],
   "source": [
    "# Records expressed as JSON. We expect records 1 and 3 to match our query.\n",
    "curve_rec = \"\"\"{\"id\": \"curve_rec\",\n",
    "                \"type\": \"curve_rec\",\n",
    "                \"curve_sets\": {\n",
    "                    \"sample_curve\": {\n",
    "                        \"independent\": {\"time\": {\"value\": [0, 1, 2]}},\n",
    "                        \"dependent\": {\"distance\": {\"value\": [0, 2, 4]},\n",
    "                                      \"amount\": {\"value\": [12, 14, 7]}}}}}\"\"\"\n",
    "record_handler.insert(generate_record_from_json(json.loads(curve_rec)))\n",
    "rec_with_curve_id = record_handler.find_with_data(amount=any_in(DataRange(min=12)))\n",
    "print('Records with an \"amount\" >= 12 at some point: {}'\n",
    "      .format(list(rec_with_curve_id)))"
   ]
  },
  {
   "cell_type": "markdown",
   "metadata": {},
   "source": [
    "Releasing Resources\n",
    "=================\n",
    "\n",
    "When we are all done, it is important to release database resources. Failure to close connections can result in the server keeping additional resources open, resulting in performance issues."
   ]
  },
  {
   "cell_type": "code",
   "execution_count": null,
   "metadata": {},
   "outputs": [],
   "source": [
    "ds.close()"
   ]
  },
  {
   "cell_type": "markdown",
   "metadata": {},
   "source": [
    "In order to not forget to close them, we can use factories as context managers."
   ]
  },
  {
   "cell_type": "code",
   "execution_count": null,
   "metadata": {},
   "outputs": [],
   "source": [
    "with sina.connect() as ds:\n",
    "    record_handler = ds.records\n",
    "    # Since we closed the connection above, sqlite dropped the database and we created a new one.\n",
    "    # We need to re-populate it.\n",
    "    for record in (record_1, record_2, record_3):\n",
    "        record_handler.insert(generate_record_from_json(json.loads(record)))\n",
    "    print(list(record_handler.find_with_data(velocity=any_in(DataRange(min=-10, max=-5)))))\n",
    "# Once we exit the context, since it's an in-memory db, it's once again dropped."
   ]
  }
 ],
 "metadata": {
  "kernelspec": {
   "display_name": "sina",
   "language": "python",
   "name": "sina"
  },
  "language_info": {
   "codemirror_mode": {
    "name": "ipython",
    "version": 3
   },
   "file_extension": ".py",
   "mimetype": "text/x-python",
   "name": "python",
   "nbconvert_exporter": "python",
   "pygments_lexer": "ipython3",
   "version": "3.7.2"
  }
 },
 "nbformat": 4,
 "nbformat_minor": 2
}
