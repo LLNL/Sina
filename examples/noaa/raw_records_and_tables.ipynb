{
 "cells": [
  {
   "cell_type": "markdown",
   "metadata": {},
   "source": [
    "Raw Records and Tables\n",
    "====================\n",
    "\n",
    "While the primary way of querying performantly through Sina is to use the query API, Sina also stores and returns raw JSON suitable for manipulation. This notebook demonstrates using the raw form of Records to display data in tables. One\n",
    "table is created for each Record type and a final one for the relationships\n",
    "between Experiments and Observations. The example is coupled to the noaa database, in terms of data organization plus column and scalar names, but the underlying principles can be applied to any Sina-assembled Record.\n",
    "\n",
    "First, we create a factory that's aware of our data store."
   ]
  },
  {
   "cell_type": "code",
   "execution_count": null,
   "metadata": {
    "scrolled": true
   },
   "outputs": [],
   "source": [
    "import json\n",
    "import ipywidgets as widgets\n",
    "import IPython.display as ipyd\n",
    "import sys\n",
    "import tabulate\n",
    "\n",
    "\n",
    "import sina.datastores.sql as sina_sql\n",
    "import sina.datastores.sql_schema as schema\n",
    "\n",
    "DATABASE = '/collab/usr/gapps/wf/examples/data/noaa/noaa.sqlite'\n",
    "\n",
    "# Create the database access factory.\n",
    "factory = sina_sql.DAOFactory(DATABASE)\n"
   ]
  },
  {
   "cell_type": "markdown",
   "metadata": {},
   "source": [
    "We then create a RecordDAO to extract every Record with the type \"exp\" (experiment). This pulls back the raw form, a JSON object that can be loaded for further analysis. In this case, we extract the first file associated with each \"exp\" Record and display it in a table."
   ]
  },
  {
   "cell_type": "code",
   "execution_count": null,
   "metadata": {},
   "outputs": [],
   "source": [
    "# Extract experiment record(s) from the database\n",
    "all_experiments = factory.createRecordDAO().get_all_of_type(\"exp\")\n",
    "\n",
    "# Build a list of table entries, one experiment per table row\n",
    "table_data = [('Experiment Id', 'Data Source')]\n",
    "\n",
    "exp_ids = []  # Save off the experiment ids for the relationship queries\n",
    "for exp in all_experiments:\n",
    "    rec = exp.raw\n",
    "    exp_id = rec['id'].encode('utf-8')\n",
    "    exp_ids.append(exp_id)\n",
    "\n",
    "    exp_first_file = rec['files'][0]['uri'].encode('utf-8')\n",
    "    table_data.append([exp_id, exp_first_file])\n",
    "\n",
    "# Display the data in an HTML table\n",
    "table = tabulate.tabulate(table_data, tablefmt='html')\n",
    "ipyd.display(ipyd.HTML(table))"
   ]
  },
  {
   "cell_type": "markdown",
   "metadata": {},
   "source": [
    "Again, we extract every Record of a specific type, this one \"obs\" (observation). This time, we iterate through them, building up a list of selected scalars per experiment, which we will display as a table. We also again display a file associated with this Record."
   ]
  },
  {
   "cell_type": "code",
   "execution_count": null,
   "metadata": {},
   "outputs": [],
   "source": [
    "# Extract the observation records from the database\n",
    "all_observations = factory.createRecordDAO().get_all_of_type(\"obs\")\n",
    "\n",
    "# Build a list of table entries, one observation per table row\n",
    "# .. Hard-coding units in the heading instead of extracting from data\n",
    "table_data = [('Observation Id', 'Depth (m)', 'Pressure (decibars)', 'Temp (C)',\n",
    "               'Oxygen (micromol/kg)', 'O2 (micromol/kg)','O2 QC', 'pH', 'pH QC',\n",
    "               'Observation Data')]\n",
    "\n",
    "scalars_of_interest = ['depth', 'press', 'temp', 'ctd_oxy', 'o2', 'o2_qc', 'ph','ph_qc']\n",
    "\n",
    "# Each observation gets a row in the table\n",
    "for obs in all_observations:\n",
    "    record = obs.raw\n",
    "    table_row = ['']*len(table_data[0])\n",
    "    table_row[0] = record['id'].encode('utf-8')\n",
    "    \n",
    "    # For each scalar in the observation, if we're interested in it, load it in the right position\n",
    "    for scalar in record['data']:\n",
    "        name = scalar['name']\n",
    "        if name in scalars_of_interest:\n",
    "            value = scalar['value']\n",
    "            if isinstance(value, unicode):\n",
    "                value = value.encode('utf-8')\n",
    "            column_offset = scalars_of_interest.index(name) + 1\n",
    "            table_row[column_offset] = value\n",
    "    \n",
    "    # Row is complete, add to the table\n",
    "    table_row.append(record['files'][0]['uri'].encode('utf-8'))\n",
    "    table_data.append(table_row)\n",
    "\n",
    "# Display the data in an HTML table\n",
    "table = tabulate.tabulate(table_data, tablefmt='html')\n",
    "ipyd.display(ipyd.HTML(table))"
   ]
  },
  {
   "cell_type": "markdown",
   "metadata": {},
   "source": [
    "The process for the third and final type of Record is similar to that of the second. We find and display scalars of interest for every Record of type \"qc\"."
   ]
  },
  {
   "cell_type": "code",
   "execution_count": null,
   "metadata": {},
   "outputs": [],
   "source": [
    "# Extract the quality control records from the database\n",
    "all_qc = factory.createRecordDAO().get_all_of_type(\"qc\")\n",
    "\n",
    "# Build a list of table entries, one quality control entry per row\n",
    "table_data = [['Quality Control Value', 'Description']]\n",
    "\n",
    "scalars_of_interest = ['depth', 'press', 'temp', 'ctd_oxy', 'o2', 'o2_qc', 'ph','ph_qc']\n",
    "\n",
    "for qc in all_qc:\n",
    "    record = qc.raw\n",
    "    desc = record['data'][0]['value']\n",
    "    table_data.append([record['id'], desc.encode('utf-8')])\n",
    "\n",
    "# Display the data in an HTML table\n",
    "table = tabulate.tabulate(table_data, tablefmt='html')\n",
    "ipyd.display(ipyd.HTML(table))"
   ]
  },
  {
   "cell_type": "markdown",
   "metadata": {},
   "source": [
    "Finally, we build a table illustrating the heirarchy of this data; one experiment that encompasses many observations. \n",
    "\n",
    "While Relationships don't have a \"raw\" form like Records do, they're still very simple Python objects, each having a subject, predicate, and object (see Sina's documentation for more detail). For every experiment we discovered previously, we'll have Sina return all relationships in which that experiment was the subject."
   ]
  },
  {
   "cell_type": "code",
   "execution_count": null,
   "metadata": {},
   "outputs": [],
   "source": [
    "# Extract relationship records from the database, for each experiment\n",
    "dao = factory.createRelationshipDAO()\n",
    "\n",
    "# Build a list of table entries, one quality control entry per row\n",
    "table_data = [['Experiment Id', 'Relationship', 'Observation Id']]\n",
    "\n",
    "for exp_id in exp_ids:\n",
    "    all_relationships = dao.get(subject_id=exp_id)\n",
    "    for rel in all_relationships:\n",
    "        table_data.append([exp_id,\n",
    "                           rel.predicate.encode('utf-8'),\n",
    "                           rel.object_id.encode('utf-8')])\n",
    "\n",
    "# Display the data in an HTML table\n",
    "table = tabulate.tabulate(table_data, tablefmt='html')\n",
    "ipyd.display(ipyd.HTML(table))"
   ]
  }
 ],
 "metadata": {
  "kernelspec": {
   "display_name": "sina",
   "language": "python",
   "name": "sina"
  },
  "language_info": {
   "codemirror_mode": {
    "name": "ipython",
    "version": 2
   },
   "file_extension": ".py",
   "mimetype": "text/x-python",
   "name": "python",
   "nbconvert_exporter": "python",
   "pygments_lexer": "ipython2",
   "version": "2.7.10"
  }
 },
 "nbformat": 4,
 "nbformat_minor": 2
}
