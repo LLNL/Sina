{
 "cells": [
  {
   "cell_type": "markdown",
   "metadata": {},
   "source": [
    "Accessing a Record's files\n",
    "=====================\n",
    "\n",
    "Sina can help you track files by associating a list of files with each record. These can be easily accessed and queried."
   ]
  },
  {
   "cell_type": "code",
   "execution_count": null,
   "metadata": {},
   "outputs": [],
   "source": [
    "import IPython.display as ipyd\n",
    "import ipywidgets as widgets\n",
    "import sina\n",
    "import sina.utils\n",
    "import tabulate\n",
    "import six\n",
    "\n",
    "database = sina.utils.get_example_path('noaa/data.sqlite')\n",
    "print(\"Using database {}\".format(database))\n",
    "\n",
    "type_to_query = \"obs\"\n",
    "\n",
    "print(\"Creating data access object factory.\")\n",
    "ds = sina.connect(database)\n",
    "records = ds.records\n",
    "\n",
    "print(\"Loading the data from the database.  This may take a while.\")\n",
    "all_ids = list(records.find_with_type(type_to_query, ids_only=True))\n",
    "\n",
    "print(\"The data has loaded.  Now proceed to the next cell.\")"
   ]
  },
  {
   "cell_type": "markdown",
   "metadata": {},
   "source": [
    "\n",
    "\"Get all files\" dropdown\n",
    "-----------------------------\n",
    "\n",
    "Generate a dropdown selector for all available records. Display a table of all files associated with the selected record. Note that the default database only has one file per Record. This only shows the file(s)--we'll expand it into opening in the next set of cells."
   ]
  },
  {
   "cell_type": "code",
   "execution_count": null,
   "metadata": {},
   "outputs": [],
   "source": [
    "column_display_names = {\"mimetype\": \"Mimetype\", \"uri\": \"URI\", \"tags\": \"Tags\"}\n",
    "\n",
    "select_widget = widgets.Dropdown(\n",
    "    options=all_ids,\n",
    "    value=all_ids[0],\n",
    "    description='Record:',\n",
    "    disabled=False)\n",
    "\n",
    "\n",
    "def display_table(list_pos):\n",
    "    \"\"\"Displays a table populated by all files associated with a record\"\"\"\n",
    "    all_files = records.get(all_ids[list_pos]).files\n",
    "    # Files are stored in a dictionary, but tabulate expects a list.\n",
    "    file_list = []\n",
    "    for uri, file_data in six.iteritems(all_files):\n",
    "        file_data[\"uri\"] = uri\n",
    "        file_list.append(file_data)\n",
    "    tbl = tabulate.tabulate([column_display_names] + file_list, tablefmt='html')\n",
    "    ipyd.display(ipyd.HTML(tbl))\n",
    "\n",
    "\n",
    "def on_select(change):\n",
    "    \"\"\"Clears output, displays widget and file table\"\"\"\n",
    "    ipyd.clear_output(wait=False)\n",
    "    ipyd.display(select_widget)\n",
    "    list_pos = change['owner'].index\n",
    "    display_table(list_pos)\n",
    "\n",
    "\n",
    "select_widget.observe(on_select)\n",
    "\n",
    "ipyd.display(select_widget)\n",
    "display_table(0)"
   ]
  },
  {
   "cell_type": "markdown",
   "metadata": {},
   "source": [
    "Accessing file contents\n",
    "=======================\n",
    "\n",
    "As long as a file hasn't been moved, standard Python I/O procedure applies. We'll re-use the work of the previous cell, but now load the file contents instead."
   ]
  },
  {
   "cell_type": "code",
   "execution_count": null,
   "metadata": {},
   "outputs": [],
   "source": [
    "file_open_widget = widgets.Dropdown(\n",
    "    options=all_ids,\n",
    "    value=all_ids[0],\n",
    "    description='Record:',\n",
    "    disabled=False)\n",
    "\n",
    "\n",
    "def open_file(list_pos):\n",
    "    \"\"\"Prints contents of all files associated with a record\"\"\"\n",
    "    all_files = records.get(all_ids[list_pos]).files\n",
    "    for uri, file_data in six.iteritems(all_files):\n",
    "        try:\n",
    "            with open(uri, \"r\") as infile:\n",
    "                print(\"CONTENTS OF {}:\\n{}\".format(uri.upper(), \"-\" * 50))\n",
    "                print(infile.read())\n",
    "        except IOError:\n",
    "            print(\"{} was not found\"\n",
    "                  .format(uri))\n",
    "\n",
    "\n",
    "def on_select_file_open(change):\n",
    "    \"\"\"Clears output, displays widget and file contents\"\"\"\n",
    "    ipyd.clear_output(wait=False)\n",
    "    ipyd.display(file_open_widget)\n",
    "    list_pos = change['owner'].index\n",
    "    open_file(list_pos)\n",
    "\n",
    "\n",
    "file_open_widget.observe(on_select_file_open)\n",
    "\n",
    "ipyd.display(file_open_widget)\n",
    "open_file(0)"
   ]
  },
  {
   "cell_type": "markdown",
   "metadata": {},
   "source": [
    "Releasing Resources\n",
    "-------------------------\n",
    "Don't forget to release resources when you're all done!"
   ]
  },
  {
   "cell_type": "code",
   "execution_count": null,
   "metadata": {},
   "outputs": [],
   "source": [
    "ds.close()"
   ]
  }
 ],
 "metadata": {
  "kernelspec": {
   "display_name": "sina",
   "language": "python",
   "name": "sina"
  },
  "language_info": {
   "codemirror_mode": {
    "name": "ipython",
    "version": 3
   },
   "file_extension": ".py",
   "mimetype": "text/x-python",
   "name": "python",
   "nbconvert_exporter": "python",
   "pygments_lexer": "ipython3",
   "version": "3.7.2"
  }
 },
 "nbformat": 4,
 "nbformat_minor": 2
}
