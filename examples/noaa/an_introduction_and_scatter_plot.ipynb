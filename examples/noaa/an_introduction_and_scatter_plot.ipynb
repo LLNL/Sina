{
 "cells": [
  {
   "cell_type": "markdown",
   "metadata": {},
   "source": [
    "Data Visualization with Sina: Jupyter\n",
    "=====================\n",
    "\n",
    "What follows is an introductory example for using Matplotlib in Jupyter to visualize data accessed through Sina. All examples here use the NOAA example data set by default, but can use any database included with sina-examples. This demo uses the sqlite component of Sina only (for now). For enhanced performance on large data sets, make sure to check out the Cassandra portion of Sina!\n",
    "\n",
    "\n",
    "\n",
    "Accessing the Data\n",
    "-----------------\n",
    "\n",
    "We'll first create a Sina DAOFactory that's aware of our database. Sina doesn't ship "
   ]
  },
  {
   "cell_type": "code",
   "execution_count": null,
   "metadata": {},
   "outputs": [],
   "source": [
    "import matplotlib\n",
    "\n",
    "import numpy as np\n",
    "import sina.datastores.sql as sina_sql\n",
    "\n",
    "DATABASE = \"/collab/usr/gapps/wf/examples/data/noaa/noaa.sqlite\"\n",
    "factory = sina_sql.DAOFactory(DATABASE)"
   ]
  },
  {
   "cell_type": "markdown",
   "metadata": {},
   "source": [
    "Performing our First \"Query\"\n",
    "--------------------------\n",
    "\n",
    "For our first query, we'll ask for something simple--the record with the ID `WCOA2011-13-95-1-7`. We can access its \"raw\" data (that is, the JSON used to create it) and use that to create a Python object. From here, we'll list the first 5 scalars that are stored in this record, to give us an idea of this data set's contents."
   ]
  },
  {
   "cell_type": "code",
   "execution_count": null,
   "metadata": {
    "scrolled": false
   },
   "outputs": [],
   "source": [
    "import json\n",
    "\n",
    "record_dao = factory.createRecordDAO()\n",
    "sample_record = record_dao.get(\"WCOA2011-13-95-1-7\")\n",
    "sample_json = json.loads(sample_record.raw)\n",
    "print(json.dumps(sample_json['data'][:5]))"
   ]
  },
  {
   "cell_type": "markdown",
   "metadata": {},
   "source": [
    "A Very Simple Graph\n",
    "------------------\n",
    "\n",
    "We can use the object we've built and matplotlib to prepare an example bar graph."
   ]
  },
  {
   "cell_type": "code",
   "execution_count": null,
   "metadata": {},
   "outputs": [],
   "source": [
    "import matplotlib.pyplot as plt\n",
    "import numpy as np\n",
    "%matplotlib notebook\n",
    "\n",
    "scalars_of_interest = ['ctd_oxy', 'o2']\n",
    "scalars_from_json = []\n",
    "y_label_fallback = \"unknown units\"\n",
    "title = \"Comparison of o2 and o2 quality check\"\n",
    "\n",
    "for entry in sample_json['data']:\n",
    "    if entry['name'] in scalars_of_interest:\n",
    "        scalars_from_json.append((entry['name'],\n",
    "                                  entry['value'],\n",
    "                                  (entry['units'] if entry.get('units') else y_label_fallback)))      \n",
    "\n",
    "units_list = set(x[2] for x in scalars_from_json)\n",
    "units = units_list.pop() if (len(units_list) == 1) else y_label_fallback\n",
    "\n",
    "y_pos = np.arange(len(scalars_of_interest))\n",
    "plt.figure(figsize=(9, 4))\n",
    "plt.bar(y_pos, [x[1] for x in sorted(scalars_from_json)], align='center', alpha=0.5)\n",
    "plt.xticks(y_pos, scalars_of_interest)\n",
    "plt.ylabel(units)\n",
    "plt.title(title)\n",
    "plt.show()"
   ]
  },
  {
   "cell_type": "markdown",
   "metadata": {},
   "source": [
    "Exploring Many Runs at Once\n",
    "===========================\n",
    "\n",
    "While we may sometimes be interested in one specific record, it's often useful to compare several. In this case, we'll compare all the different values of a few scalars between all runs in our sample database."
   ]
  },
  {
   "cell_type": "code",
   "execution_count": null,
   "metadata": {},
   "outputs": [],
   "source": [
    "import sina.datastores.sql_schema as schema\n",
    "import matplotlib.pyplot as plt\n",
    "from sqlalchemy import func\n",
    "%matplotlib notebook\n",
    "\n",
    "colors=[\"#646881\", \"#62bec1\"]\n",
    "first_scalar_set=['press', 'temp', 'depth']\n",
    "second_scalar_set=['temp', 'ctd_oxy', 'depth']\n",
    "mag=10\n",
    "alpha=0.5\n",
    "\n",
    "# Can be replaced once the Sina version is updated\n",
    "# Returns len(scalar_list)+1 lists, in the form [[record_ids],[scal_1_vals],[scal_2_vals],...]\n",
    "def sina_extract(scalar_list):\n",
    "    # This assumes that all records have all scalars. It'll fail if any are missing.\n",
    "    list_of_result_tuples = (factory.session.query(schema.Scalar.value, schema.Scalar.record_id).\n",
    "                             filter(schema.Scalar.name.in_(scalar_list))\n",
    "                             .order_by(schema.Scalar.record_id, schema.Scalar.name)\n",
    "                             .all())\n",
    "    out = [[] for x in range(len(scalar_list)+1)]\n",
    "    for x in range(0, len(list_of_result_tuples), len(scalar_list)):\n",
    "        out[0].append(list_of_result_tuples[x][1])\n",
    "        for y in range(0, len(scalar_list)):\n",
    "            out[y+1].append(list_of_result_tuples[x+y][0])\n",
    "    return out\n",
    "            \n",
    "# Matplotlib\n",
    "fig = plt.figure(figsize=(9, 6))\n",
    "ax = fig.add_subplot(111)\n",
    "text=ax.text(0,0, \"\", va=\"bottom\", ha=\"left\")\n",
    "    \n",
    "scatter_lists_1 = sina_extract(first_scalar_set)\n",
    "sc1 = plt.scatter(x=scatter_lists_1[1], y=scatter_lists_1[2], s=[x*mag for x in scatter_lists_1[3]], c=colors[0], edgecolor=colors[0], alpha=alpha)\n",
    "\n",
    "scatter_lists_2 = sina_extract(second_scalar_set)\n",
    "sc2 = plt.scatter(x=scatter_lists_2[1], y=scatter_lists_2[2], s=[x*mag for x in scatter_lists_2[3]], c=colors[1], edgecolor=colors[1], alpha=alpha)\n",
    "\n",
    "plt.legend((sc1,\n",
    "            sc2),\n",
    "           (str(first_scalar_set),\n",
    "            str(second_scalar_set)),\n",
    "           scatterpoints=1,\n",
    "           fontsize=8)\n",
    "\n",
    "plt.show()"
   ]
  }
 ],
 "metadata": {
  "kernelspec": {
   "display_name": "sina",
   "language": "python",
   "name": "sina"
  },
  "language_info": {
   "codemirror_mode": {
    "name": "ipython",
    "version": 2
   },
   "file_extension": ".py",
   "mimetype": "text/x-python",
   "name": "python",
   "nbconvert_exporter": "python",
   "pygments_lexer": "ipython2",
   "version": "2.7.10"
  }
 },
 "nbformat": 4,
 "nbformat_minor": 2
}
