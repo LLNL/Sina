{
 "cells": [
  {
   "cell_type": "markdown",
   "metadata": {},
   "source": [
    "Comparing Records\n",
    "================\n",
    "A comparison function in `sina.model` allows you to do a simple comparison between two records. It will compare the differences between two records and print them out in an easy to read table. The only requirement is to have two similar structured records. In this example we will be comparing records of the NOAA data set.\n",
    "\n",
    "Accessing the Data\n",
    "-----------------------\n",
    "We'll first create a Sina DAOFactory that's aware of our database."
   ]
  },
  {
   "cell_type": "code",
   "execution_count": null,
   "metadata": {},
   "outputs": [],
   "source": [
    "import sina.datastores.sql as sina_sql\n",
    "import sina.utils\n",
    "import sina.model as model\n",
    "\n",
    "# Load the database\n",
    "database = sina.utils.get_example_path('noaa/noaa.sqlite')\n",
    "print(\"Using database {}\".format(database))\n",
    "factory = sina_sql.DAOFactory(database)\n",
    "\n",
    "print(\"The data access object factory has been created.  Proceed to the next cell.\")"
   ]
  },
  {
   "cell_type": "markdown",
   "metadata": {},
   "source": [
    "Get the records\n",
    "------------------"
   ]
  },
  {
   "cell_type": "code",
   "execution_count": null,
   "metadata": {},
   "outputs": [],
   "source": [
    "record_one_id = \"WCOA2011-13-95-1-7\"\n",
    "record_two_id = \"WCOA2011-13-95-1-8\"\n",
    "record_dao = factory.createRecordDAO()\n",
    "record_one = record_dao.get(record_one_id)\n",
    "record_two = record_dao.get(record_two_id)\n",
    "print('Retrieved records: {} and {}.'.format(record_one, record_two))"
   ]
  },
  {
   "cell_type": "markdown",
   "metadata": {},
   "source": [
    "Compare the records\n",
    "-------------------------"
   ]
  },
  {
   "cell_type": "code",
   "execution_count": null,
   "metadata": {},
   "outputs": [],
   "source": [
    "model.print_diff_records(record_one, record_two)"
   ]
  }
 ],
 "metadata": {
  "kernelspec": {
   "display_name": "sina",
   "language": "python",
   "name": "sina"
  },
  "language_info": {
   "codemirror_mode": {
    "name": "ipython",
    "version": 2
   },
   "file_extension": ".py",
   "mimetype": "text/x-python",
   "name": "python",
   "nbconvert_exporter": "python",
   "pygments_lexer": "ipython2",
   "version": "2.7.5"
  }
 },
 "nbformat": 4,
 "nbformat_minor": 2
}
