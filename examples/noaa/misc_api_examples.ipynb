{
 "cells": [
  {
   "cell_type": "markdown",
   "metadata": {},
   "source": [
    "API Examples\n",
    "============\n",
    "\n",
    "Some minimal, miscellaneous examples on how to use Sina. First, some basic setup: import modules, define datasets, and load some data."
   ]
  },
  {
   "cell_type": "code",
   "execution_count": null,
   "metadata": {},
   "outputs": [],
   "source": [
    "import IPython.display as ipyd\n",
    "import ipywidgets as widgets\n",
    "from sina.datastores.sql import DAOFactory\n",
    "import sina.utils\n",
    "import tabulate\n",
    "import six\n",
    "\n",
    "database = sina.utils.get_example_path('noaa/data.sqlite')\n",
    "print(\"Using database {}\".format(database))\n",
    "\n",
    "type_to_query = \"obs\"\n",
    "\n",
    "print(\"Creating data access object factory.\")\n",
    "factory = DAOFactory(db_path=database)\n",
    "record_dao = factory.create_record_dao()\n",
    "\n",
    "print(\"Loading the data from the database.  This may take a while.\")\n",
    "all_ids = list(record_dao.get_all_of_type(type_to_query, ids_only=True))\n",
    "\n",
    "print(\"The data has loaded.  Now proceed to the next cell.\")"
   ]
  },
  {
   "cell_type": "markdown",
   "metadata": {},
   "source": [
    "\n",
    "\"Get all files\" dropdown\n",
    "-----------------------------\n",
    "\n",
    "Generate a dropdown selector for all available records. Display a table of all files associated with the selected record. Note that the default database only has one file per Record."
   ]
  },
  {
   "cell_type": "code",
   "execution_count": null,
   "metadata": {},
   "outputs": [],
   "source": [
    "column_display_names = {\"mimetype\": \"Mimetype\", \"uri\": \"URI\", \"tags\": \"Tags\"}\n",
    "\n",
    "select_widget = widgets.Dropdown(\n",
    "    options=all_ids,\n",
    "    value=all_ids[0],\n",
    "    description='Record:',\n",
    "    disabled=False,\n",
    ")\n",
    "\n",
    "\n",
    "def display_table(list_pos):\n",
    "    \"\"\"Displays a table populated by all files associated with a record\"\"\"\n",
    "    all_files = record_dao.get(all_ids[list_pos]).files\n",
    "    # Files are stored in a dictionary, but tabulate expects a list.\n",
    "    file_list = []\n",
    "    for uri, file_data in six.iteritems(all_files):\n",
    "        file_data[\"uri\"] = uri\n",
    "        file_list.append(file_data)\n",
    "    tbl = tabulate.tabulate([column_display_names] + file_list, tablefmt='html')\n",
    "    ipyd.display(ipyd.HTML(tbl))\n",
    "\n",
    "\n",
    "def on_select(change):\n",
    "    \"\"\"Clears output, displays widget and file table\"\"\"\n",
    "    ipyd.clear_output(wait=False)\n",
    "    ipyd.display(select_widget)\n",
    "    list_pos = change['owner'].index\n",
    "    display_table(list_pos)\n",
    "\n",
    "\n",
    "select_widget.observe(on_select)\n",
    "\n",
    "ipyd.display(select_widget)\n",
    "display_table(0)"
   ]
  },
  {
   "cell_type": "markdown",
   "metadata": {},
   "source": [
    "Releasing Resources\n",
    "-------------------------\n",
    "Don't forget to release resources when you're all done!"
   ]
  },
  {
   "cell_type": "code",
   "execution_count": null,
   "metadata": {},
   "outputs": [],
   "source": [
    "factory.close()"
   ]
  }
 ],
 "metadata": {
  "kernelspec": {
   "display_name": "sina",
   "language": "python",
   "name": "sina"
  },
  "language_info": {
   "codemirror_mode": {
    "name": "ipython",
    "version": 3
   },
   "file_extension": ".py",
   "mimetype": "text/x-python",
   "name": "python",
   "nbconvert_exporter": "python",
   "pygments_lexer": "ipython3",
   "version": "3.6.4"
  }
 },
 "nbformat": 4,
 "nbformat_minor": 2
}
