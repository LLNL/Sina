{
 "cells": [
  {
   "cell_type": "markdown",
   "metadata": {},
   "source": [
    "API Examples\n",
    "============\n",
    "\n",
    "Some minimal, miscellaneous examples on how to use Sina. First, some basic setup: import modules, define datasets, and load some data."
   ]
  },
  {
   "cell_type": "code",
   "execution_count": null,
   "metadata": {},
   "outputs": [],
   "source": [
    "import os\n",
    "import json\n",
    "\n",
    "from sina.datastores.sql_schema import ScalarData\n",
    "from sina.datastores.sql import DAOFactory\n",
    "import sina.utils\n",
    "import ipywidgets as widgets\n",
    "\n",
    "from IPython.display import HTML, display, clear_output\n",
    "import IPython.display as ipyd\n",
    "import tabulate\n",
    "\n",
    "DATABASE = sina.utils.get_example_path('noaa/noaa.sqlite')\n",
    "print(\"Using database {}.format(DATABASE).\")\n",
    "\n",
    "type_to_query = \"obs\"\n",
    "\n",
    "print(\"Creating data access object factory.\")\n",
    "factory = DAOFactory(db_path=DATABASE)\n",
    "record_dao = factory.createRecordDAO()\n",
    "\n",
    "print(\"Loading the data from the database.  This may take a while.\")\n",
    "records = record_dao.get_all_of_type(type_to_query)\n",
    "\n",
    "print(\"The data has loaded.  Now proceed to the next cell.\")"
   ]
  },
  {
   "cell_type": "markdown",
   "metadata": {},
   "source": [
    "\n",
    "\"Get all files\" dropdown\n",
    "-----------------------------\n",
    "\n",
    "Generate a dropdown selector for all available records. Display a table of all files associated with the selected record. Note that the default database only has one file per Record."
   ]
  },
  {
   "cell_type": "code",
   "execution_count": null,
   "metadata": {},
   "outputs": [],
   "source": [
    "all_ids = [x.id for x in records]\n",
    "column_display_names = {\"mimetype\":\"Mimetype\", \"uri\":\"URI\", \"tags\":\"Tags\"}\n",
    "\n",
    "select_widget = widgets.Dropdown(\n",
    "    options=all_ids,\n",
    "    value=all_ids[0],\n",
    "    description='Record:',\n",
    "    disabled=False,\n",
    ")\n",
    "\n",
    "def display_table(list_pos):\n",
    "    \"\"\"Displays a table populated by all files associated with a record\"\"\"\n",
    "    all_files = [column_display_names] + (record_dao.get_files(all_ids[list_pos]))\n",
    "    tbl = tabulate.tabulate(all_files, tablefmt='html')\n",
    "    ipyd.display(ipyd.HTML(tbl))\n",
    "\n",
    "def on_select(change):\n",
    "    \"\"\"Clears output, displays widget and file table\"\"\"\n",
    "    clear_output(wait=False)\n",
    "    display(select_widget)\n",
    "    list_pos = change['owner'].index\n",
    "    display_table(list_pos)\n",
    "        \n",
    "select_widget.observe(on_select) \n",
    "\n",
    "display(select_widget)\n",
    "display_table(0)"
   ]
  }
 ],
 "metadata": {
  "kernelspec": {
   "display_name": "sina",
   "language": "python",
   "name": "sina"
  },
  "language_info": {
   "codemirror_mode": {
    "name": "ipython",
    "version": 2
   },
   "file_extension": ".py",
   "mimetype": "text/x-python",
   "name": "python",
   "nbconvert_exporter": "python",
   "pygments_lexer": "ipython2",
   "version": "2.7.14"
  }
 },
 "nbformat": 4,
 "nbformat_minor": 2
}
