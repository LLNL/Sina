{
 "cells": [
  {
   "cell_type": "markdown",
   "metadata": {},
   "source": [
    "Simple Bar and Scatter Graph\n",
    "=====================\n",
    "\n",
    "What follows is an introductory example for using Matplotlib in Jupyter to visualize data accessed through Sina. All examples here use the NOAA example data set by default but can, in theory, use any database assembled by Sina. This demo uses the sqlite component of Sina only (for now). For enhanced performance on large data sets, make sure to check out the Cassandra portion of Sina!\n",
    "\n",
    "\n",
    "\n",
    "Accessing the Data\n",
    "-----------------\n",
    "\n",
    "We'll first create a Sina DAOFactory that's aware of our database."
   ]
  },
  {
   "cell_type": "code",
   "execution_count": null,
   "metadata": {},
   "outputs": [],
   "source": [
    "import matplotlib\n",
    "\n",
    "import numpy as np\n",
    "import sina.datastores.sql as sina_sql\n",
    "\n",
    "DATABASE = \"/collab/usr/gapps/wf/examples/data/noaa/noaa.sqlite\"\n",
    "factory = sina_sql.DAOFactory(DATABASE)"
   ]
  },
  {
   "cell_type": "markdown",
   "metadata": {},
   "source": [
    "Performing our First \"Query\"\n",
    "--------------------------\n",
    "\n",
    "For our first query, we'll ask for something simple--the record with the ID `WCOA2011-13-95-1-7`. We can access its \"raw\" data (that is, the JSON used to create it) and use that to create a Python object. From here, we'll list the first 5 scalars that are stored in this record, to give us an idea of this data set's contents."
   ]
  },
  {
   "cell_type": "code",
   "execution_count": null,
   "metadata": {
    "scrolled": false
   },
   "outputs": [],
   "source": [
    "import json\n",
    "\n",
    "record_of_interest=\"WCOA2011-13-95-1-7\"\n",
    "record_dao = factory.createRecordDAO()\n",
    "sample_record = record_dao.get(record_of_interest)\n",
    "sample_json = json.loads(sample_record.raw)\n",
    "print(json.dumps(sample_json['data'][:5]))"
   ]
  },
  {
   "cell_type": "markdown",
   "metadata": {},
   "source": [
    "Exploring A Single Run\n",
    "------------------\n",
    "\n",
    "We can use the object we've built and matplotlib to prepare an example bar graph comparing two scalars (by default, these are the oxygen content and its check)."
   ]
  },
  {
   "cell_type": "code",
   "execution_count": null,
   "metadata": {},
   "outputs": [],
   "source": [
    "import matplotlib.pyplot as plt\n",
    "import numpy as np\n",
    "%matplotlib notebook\n",
    "\n",
    "scalars_of_interest = ['ctd_oxy', 'o2']\n",
    "scalars_from_json = []\n",
    "y_label_fallback = \"unknown units\"\n",
    "title = \"Comparison of {} for {}\".format(\" and \".join(scalars_of_interest), record_of_interest)\n",
    "\n",
    "for entry in sample_json['data']:\n",
    "    if entry['name'] in scalars_of_interest:\n",
    "        scalars_from_json.append((entry['name'],\n",
    "                                  entry['value'],\n",
    "                                  (entry['units'] if entry.get('units') else y_label_fallback)))      \n",
    "\n",
    "units_list = set(x[2] for x in scalars_from_json)\n",
    "units = units_list.pop() if (len(units_list) == 1) else y_label_fallback\n",
    "\n",
    "y_pos = np.arange(len(scalars_of_interest))\n",
    "plt.figure(figsize=(9, 4))\n",
    "plt.bar(y_pos, [x[1] for x in sorted(scalars_from_json)], align='center', alpha=0.5)\n",
    "plt.xticks(y_pos, scalars_of_interest)\n",
    "plt.ylabel(units)\n",
    "plt.title(title)\n",
    "plt.show()"
   ]
  },
  {
   "cell_type": "markdown",
   "metadata": {},
   "source": [
    "Exploring Many Runs at Once\n",
    "-----------------------------------\n",
    "\n",
    "While we may sometimes be interested in one specific record, it's often useful to compare several. In this case, we'll compare the two scalars we selected above for all observations in our dataset."
   ]
  },
  {
   "cell_type": "code",
   "execution_count": null,
   "metadata": {},
   "outputs": [],
   "source": [
    "import sina.datastores.sql_schema as schema\n",
    "import matplotlib.pyplot as plt\n",
    "from sqlalchemy import func\n",
    "%matplotlib notebook\n",
    "\n",
    "# Customize the graph (we'll try to discover units from our data)\n",
    "colors=[\"#646881\", \"#62bec1\"]\n",
    "fallback_x_label = 'unknown_units'\n",
    "fallback_y_label = 'unknown_units'\n",
    "title = \"Comparison of {} for all observations\".format(\" and \".join(scalars_of_interest))\n",
    "\n",
    "# Get all the ids of records we're interested in\n",
    "all_obs_ids = [x.record_id for x in record_dao.get_all_of_type(\"obs\")]\n",
    "\n",
    "# Get the scalars we're interested in for each of those records\n",
    "all_obs_scalars = [record_dao.get_scalars(x, scalars_of_interest) for x in all_obs_ids]\n",
    "\n",
    "# Discard information we won't plot, things like scalar names and bad reads (-999 as value)\n",
    "all_obs_values = [(x[0]['value'], x[1]['value']) for x in all_obs_scalars if all(y['value'] != -999.0 for y in x)]\n",
    "\n",
    "# Change list from [(x_val_1, y_val_1),(x_val_2, y_val_2)] to [(x_val_1, x_val_2),(y_val_1, y_val_2)]\n",
    "point_coords = zip(*all_obs_values)\n",
    "\n",
    "# Discover units or use fallback\n",
    "x_units = all_obs_scalars[0][0]['units'] if all_obs_scalars[0][0]['units'] else fallback_x_label\n",
    "y_units = all_obs_scalars[0][1]['units'] if all_obs_scalars[0][1]['units'] else fallback_y_label\n",
    "\n",
    "# Configure and display the graph\n",
    "plt.scatter(x=point_coords[0], y=point_coords[1], c=colors[0], edgecolor=colors[1])\n",
    "plt.xlabel(x_units)\n",
    "plt.ylabel(y_units)\n",
    "plt.title(title)\n",
    "plt.show()"
   ]
  }
 ],
 "metadata": {
  "kernelspec": {
   "display_name": "sina",
   "language": "python",
   "name": "sina"
  },
  "language_info": {
   "codemirror_mode": {
    "name": "ipython",
    "version": 2
   },
   "file_extension": ".py",
   "mimetype": "text/x-python",
   "name": "python",
   "nbconvert_exporter": "python",
   "pygments_lexer": "ipython2",
   "version": "2.7.10"
  }
 },
 "nbformat": 4,
 "nbformat_minor": 2
}
