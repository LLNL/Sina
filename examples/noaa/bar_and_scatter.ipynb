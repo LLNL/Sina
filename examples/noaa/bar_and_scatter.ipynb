{
 "cells": [
  {
   "cell_type": "markdown",
   "metadata": {},
   "source": [
    "Simple Bar and Scatter Graph\n",
    "=====================\n",
    "\n",
    "What follows is an introductory example for using Matplotlib in Jupyter to visualize data accessed through Sina. All examples here use the NOAA example data set by default but can, in theory and with a few changes (e.g., scalars of interest), use any database assembled by Sina. \n",
    "\n",
    "This demo uses data from an SQLite database to facilitate the demonstration.  For enhanced performance on large data sets, you'll want to use a Cassandra back end instead.\n",
    "\n",
    "\n",
    "Accessing the Data\n",
    "-----------------\n",
    "\n",
    "We'll first create a Sina DAOFactory that's aware of our database."
   ]
  },
  {
   "cell_type": "code",
   "execution_count": null,
   "metadata": {},
   "outputs": [],
   "source": [
    "import matplotlib.pyplot as plt\n",
    "import numpy as np\n",
    "import sina.datastores.sql as sina_sql\n",
    "import sina.utils\n",
    "\n",
    "# Load the database\n",
    "database = sina.utils.get_example_path('noaa/data.sqlite')\n",
    "print(\"Using database {}\".format(database))\n",
    "factory = sina_sql.DAOFactory(database)\n",
    "\n",
    "print(\"The data access object factory has been created.  Proceed to the next cell.\")"
   ]
  },
  {
   "cell_type": "markdown",
   "metadata": {},
   "source": [
    "Performing our First Query\n",
    "--------------------------\n",
    "\n",
    "For our first query, we'll ask for something simple--the record with the ID `WCOA2011-13-95-1-7`. We can access its \"raw\" data (that is, the JSON used to create it) and use that to create a Python object. From here, we'll list the scalars that are stored in this record, to give us an idea of this data set's contents."
   ]
  },
  {
   "cell_type": "code",
   "execution_count": null,
   "metadata": {},
   "outputs": [],
   "source": [
    "record_of_interest = \"WCOA2011-13-95-1-7\"\n",
    "record_dao = factory.create_record_dao()\n",
    "sample_record = record_dao.get(record_of_interest)\n",
    "print(\"Available scalars for record {}: {}\".format(record_of_interest,\n",
    "                                                   \", \".join(sample_record['data'].keys())))"
   ]
  },
  {
   "cell_type": "markdown",
   "metadata": {},
   "source": [
    "Exploring A Single Run\n",
    "------------------\n",
    "\n",
    "We can use the object we've built and matplotlib to prepare an example bar graph comparing two scalars (by default, these are the oxygen content and its check).\n",
    "\n",
    "You can interact with this plot in several ways that include: pan, zoom, and download.  Simply click the home icon in the lower left corner below the plot to restore the original layout.\n",
    "\n",
    "Interaction can be disabled by clicking the power icon to the right of the Figure heading at the top.  Re-run the cell if the plot is not rendered."
   ]
  },
  {
   "cell_type": "code",
   "execution_count": null,
   "metadata": {},
   "outputs": [],
   "source": [
    "%matplotlib notebook\n",
    "\n",
    "# Customize the graph. Only the first 2 will be used in the scatter plot (next cell)\n",
    "scalars_of_interest = ['ctd_oxy', 'o2']\n",
    "title = \"Comparison of {} for {}\".format(\" and \".join(scalars_of_interest), record_of_interest)\n",
    "\n",
    "# Get data from record\n",
    "scalars = []\n",
    "for scalar in scalars_of_interest:\n",
    "    scalars.append(sample_record['data'][scalar])\n",
    "units = scalars[0].get('units')\n",
    "\n",
    "# Create the graph\n",
    "y_pos = np.arange(len(scalars_of_interest))\n",
    "plt.figure(figsize=(9, 4))\n",
    "plt.bar(y_pos, [x['value'] for x in scalars], align='center', alpha=0.5)\n",
    "plt.xticks(y_pos, scalars_of_interest)\n",
    "plt.ylabel(units)\n",
    "plt.title(title)\n",
    "plt.show()"
   ]
  },
  {
   "cell_type": "markdown",
   "metadata": {},
   "source": [
    "Exploring Many Runs at Once\n",
    "-----------------------------------\n",
    "\n",
    "While we may sometimes be interested in one specific record, it's often useful to compare several. In this case, we'll compare the two scalars we selected above for all observations in our dataset.\n",
    "\n",
    "Once again, you can pan, zoom, and download this plot. Simply click the home icon in the lower left corner below the plot to restore the original layout.  Re-run the cell if the plot is not rendered."
   ]
  },
  {
   "cell_type": "code",
   "execution_count": null,
   "metadata": {},
   "outputs": [],
   "source": [
    "%matplotlib notebook\n",
    "\n",
    "# Customize the graph\n",
    "alpha = 0.15\n",
    "title = \"Comparison of {} for all observations\".format(\" and \".join(scalars_of_interest))\n",
    "\n",
    "# Create a generator to produce the records we're interested in\n",
    "all_obs = record_dao.get_all_of_type(\"obs\")\n",
    "\n",
    "# Extract the information we need from each observation\n",
    "x_coords = []\n",
    "y_coords = []\n",
    "\n",
    "for obs in all_obs:\n",
    "    x_scalar = obs['data'][scalars_of_interest[0]]\n",
    "    y_scalar = obs['data'][scalars_of_interest[1]]\n",
    "    # A value of -999.0 indicates bad data; discard all such observations\n",
    "    if all(scalar['value'] != -999.0 for scalar in (x_scalar, y_scalar)):\n",
    "        x_coords.append(x_scalar['value'])\n",
    "        y_coords.append(y_scalar['value'])\n",
    "\n",
    "x_units = x_scalar['units']\n",
    "y_units = y_scalar['units']\n",
    "\n",
    "# Configure and display the graph\n",
    "plt.scatter(x_coords, y_coords, alpha=alpha)\n",
    "plt.xlabel(x_units)\n",
    "plt.ylabel(y_units)\n",
    "plt.title(title)\n",
    "plt.show()"
   ]
  }
 ],
 "metadata": {
  "kernelspec": {
   "display_name": "sina",
   "language": "python",
   "name": "sina"
  },
  "language_info": {
   "codemirror_mode": {
    "name": "ipython",
    "version": 2
   },
   "file_extension": ".py",
   "mimetype": "text/x-python",
   "name": "python",
   "nbconvert_exporter": "python",
   "pygments_lexer": "ipython2",
   "version": "2.7.10"
  }
 },
 "nbformat": 4,
 "nbformat_minor": 2
}
