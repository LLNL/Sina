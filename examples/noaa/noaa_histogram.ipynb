{
 "cells": [
  {
   "cell_type": "markdown",
   "metadata": {},
   "source": [
    "Configurable Histogram\n",
    "===================\n",
    "\n",
    "This example details a simple histogram. As long as database, type_plotted, and scalar_plotted are valid and meaningful, this histogram will work with any Sina-formatted database.\n",
    "\n",
    "By default, it creates a histogram for the \"depth\" scalar found in \"obs\" Records in the NOAA database, sorting those values into 50 bins. These and most other graph parameters can be changed in the following cell."
   ]
  },
  {
   "cell_type": "code",
   "execution_count": null,
   "metadata": {},
   "outputs": [],
   "source": [
    "import matplotlib.pyplot as plt\n",
    "import sina.datastores.sql as sina_sql\n",
    "import sina.utils\n",
    "\n",
    "# Graph customization\n",
    "database = sina.utils.get_example_path('noaa/data.sqlite')\n",
    "print(\"Using database {}\".format(database))\n",
    "\n",
    "scalar_of_interest = \"depth\"\n",
    "num_bins = 50\n",
    "plot_title = \"Occurrence rate of {}\".format(scalar_of_interest)\n",
    "y_label = \"# Occurrences\""
   ]
  },
  {
   "cell_type": "markdown",
   "metadata": {},
   "source": [
    "Now that the parameters have been set, we can extract our data and create the graph. You can tweak the parameters at any time; just edit the cell above, run it, then recreate the graph. You can of course keep the parameters and logic in the same cell (they're separated here for readability).\n",
    "\n",
    "Once displayed, you can interact with the plot through the buttons shown in the lower left corner below the plot *provided interaction is enabled*.  Options including pan, zoom, and download.  Click the left-most \"home\" button to restore the orignal layout."
   ]
  },
  {
   "cell_type": "code",
   "execution_count": null,
   "metadata": {},
   "outputs": [],
   "source": [
    "# Generate matplotlib plots in interactive mode\n",
    "%matplotlib notebook\n",
    "\n",
    "factory = sina_sql.DAOFactory(database)\n",
    "record_handler = factory.create_record_dao()\n",
    "\n",
    "print(\"Loading the data from the database, which may take a while.\")\n",
    "\n",
    "# While there are 3 types of Record in the NOAA sample db, only one (obs) stores any scalar data.\n",
    "# Because of that, anything we'd graph on this simple histogram (scalar data) can be gotten this way,\n",
    "# as the method ignores records that don't contain the desired data.\n",
    "hist_data = record_handler.get_data_for_records(data_list=[scalar_of_interest])\n",
    "hist_recs = list(hist_data.keys())\n",
    "\n",
    "values = [hist_data[x][scalar_of_interest]['value'] for x in hist_recs]\n",
    "units = hist_data[hist_recs[0]][scalar_of_interest]['units']\n",
    "\n",
    "print(\"The data is loaded.  Creating the plot.\")\n",
    "\n",
    "# Create the graph\n",
    "plt.hist(values, num_bins)\n",
    "plt.ylabel(y_label)\n",
    "plt.xlabel(units)\n",
    "plt.title(plot_title)\n",
    "plt.show()"
   ]
  },
  {
   "cell_type": "markdown",
   "metadata": {},
   "source": [
    "Releasing Resources\n",
    "-------------------------\n",
    "Don't forget to release resources when you're all done!"
   ]
  },
  {
   "cell_type": "code",
   "execution_count": null,
   "metadata": {},
   "outputs": [],
   "source": [
    "factory.close()"
   ]
  }
 ],
 "metadata": {
  "kernelspec": {
   "display_name": "sina",
   "language": "python",
   "name": "sina"
  },
  "language_info": {
   "codemirror_mode": {
    "name": "ipython",
    "version": 3
   },
   "file_extension": ".py",
   "mimetype": "text/x-python",
   "name": "python",
   "nbconvert_exporter": "python",
   "pygments_lexer": "ipython3",
   "version": "3.6.4"
  }
 },
 "nbformat": 4,
 "nbformat_minor": 2
}
