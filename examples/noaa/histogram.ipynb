{
 "cells": [
  {
   "cell_type": "markdown",
   "metadata": {},
   "source": [
    "Configurable Histogram\n",
    "===================\n",
    "\n",
    "This example details a simple histogram. As long as DATABASE, type_plotted, and scalar_plotted are valid and meaningful, this histogram will work with any Sina-formatted database.\n",
    "\n",
    "By default, it creates a histogram for the \"depth\" scalar found in \"obs\" Records in the noaa database, sorting those values into 50 bins. These and most other graph parameters can be changed in the following cell."
   ]
  },
  {
   "cell_type": "code",
   "execution_count": null,
   "metadata": {
    "scrolled": false
   },
   "outputs": [],
   "source": [
    "import matplotlib.pyplot as plt\n",
    "import numpy as np\n",
    "\n",
    "import sina.datastores.sql as backend\n",
    "%matplotlib notebook\n",
    "\n",
    "DATABASE = \"/collab/usr/gapps/wf/examples/data/noaa/noaa.sqlite\"\n",
    "type_plotted = \"obs\"\n",
    "scalar_plotted = \"depth\"\n",
    "num_bins = 50\n",
    "plot_title = \"Occurrence rate of {}\".format(scalar_plotted)\n",
    "y_label = \"# Occurrences\""
   ]
  },
  {
   "cell_type": "markdown",
   "metadata": {},
   "source": [
    "Now that the parameters have been set, we can extract our data and create the graph. You can tweak the parameters at any time; just edit the cell above, run it, then recreate the graph. You can of course keep the parameters and logic in the same cell (they're separated here for readability)."
   ]
  },
  {
   "cell_type": "code",
   "execution_count": null,
   "metadata": {},
   "outputs": [],
   "source": [
    "factory = backend.DAOFactory(DATABASE)\n",
    "rec_dao = factory.createRecordDAO()\n",
    "\n",
    "# We first get all the records of a certain type\n",
    "to_plot = rec_dao.get_all_of_type(type_plotted)\n",
    "\n",
    "# We then fetch the scalars for them\n",
    "list_of_scalars = [rec_dao.get_scalars(x.id, [scalar_plotted]) for x in to_plot]\n",
    "\n",
    "values = [x[0]['value'] for x in list_of_scalars]\n",
    "# Discover units or use fallback\n",
    "units = list_of_scalars[0][0]['units']\n",
    "          \n",
    "# the histogram of the data\n",
    "plt.hist(values, num_bins)\n",
    "\n",
    "# labeling\n",
    "plt.ylabel(y_label)\n",
    "plt.xlabel(units)\n",
    "plt.title(plot_title)\n",
    "\n",
    "plt.show()"
   ]
  }
 ],
 "metadata": {
  "kernelspec": {
   "display_name": "Python 2",
   "language": "python",
   "name": "python2"
  },
  "language_info": {
   "codemirror_mode": {
    "name": "ipython",
    "version": 2
   },
   "file_extension": ".py",
   "mimetype": "text/x-python",
   "name": "python",
   "nbconvert_exporter": "python",
   "pygments_lexer": "ipython2",
   "version": "2.7.10"
  }
 },
 "nbformat": 4,
 "nbformat_minor": 2
}
