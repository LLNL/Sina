{
 "cells": [
  {
   "cell_type": "markdown",
   "metadata": {},
   "source": [
    "Configurable Histogram\n",
    "===================\n",
    "\n",
    "This example details a simple, yet configurable, histogram. As long as DATABASE, type_plotted, and scalar_plotted are valid and meaningful, this histogram will work with any Sina-formatted database.\n",
    "\n",
    "By default, it creates a histogram for the \"depth\" scalar found in \"obs\" Records in the noaa database.\n",
    "\n",
    "Please note that matplotlib can be somewhat slow to start (especially if needs to built a font library, as will happen if you're using it for the first time)."
   ]
  },
  {
   "cell_type": "code",
   "execution_count": null,
   "metadata": {
    "scrolled": false
   },
   "outputs": [],
   "source": [
    "import matplotlib.pyplot as plt\n",
    "import numpy as np\n",
    "\n",
    "import sina.datastores.sql as backend\n",
    "%matplotlib notebook\n",
    "\n",
    "DATABASE = \"/collab/usr/gapps/wf/examples/data/noaa/noaa.sqlite\"\n",
    "type_plotted = \"obs\"\n",
    "scalar_plotted = \"depth\"\n",
    "num_bins = 50\n",
    "plot_title = \"Occurrence rate of {}\".format(scalar_plotted)\n",
    "x_label = \"# Occurrences\"\n",
    "# This example will find the units from the data, and fall back on this if none are found\n",
    "fallback_y_label = \"unknown unit\"\n",
    "\n",
    "\n",
    "factory = backend.DAOFactory(DATABASE)\n",
    "rec_dao = factory.createRecordDAO()\n",
    "\n",
    "# We first get all the records of a certain type\n",
    "to_plot = rec_dao.get_all_of_type(type_plotted)\n",
    "\n",
    "# We then fetch the scalars for them\n",
    "list_of_scalars = [rec_dao.get_scalars(x.record_id, [scalar_plotted]) for x in to_plot]\n",
    "\n",
    "values = [x[0]['value'] for x in list_of_scalars]\n",
    "# Discover units or use fallback\n",
    "units = list_of_scalars[0][0]['units'] if list_of_scalars[0][0]['units'] else fallback_y_label\n",
    "          \n",
    "# the histogram of the data\n",
    "plt.hist(values, num_bins)\n",
    "\n",
    "# labeling\n",
    "plt.xlabel(x_label)\n",
    "plt.ylabel(units)\n",
    "plt.grid(True)\n",
    "plt.title(plot_title)\n",
    "\n",
    "plt.show()\n"
   ]
  }
 ],
 "metadata": {
  "kernelspec": {
   "display_name": "Python 2",
   "language": "python",
   "name": "python2"
  },
  "language_info": {
   "codemirror_mode": {
    "name": "ipython",
    "version": 2
   },
   "file_extension": ".py",
   "mimetype": "text/x-python",
   "name": "python",
   "nbconvert_exporter": "python",
   "pygments_lexer": "ipython2",
   "version": "2.7.10"
  }
 },
 "nbformat": 4,
 "nbformat_minor": 2
}
