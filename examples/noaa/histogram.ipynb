{
 "cells": [
  {
   "cell_type": "markdown",
   "metadata": {},
   "source": [
    "Configurable Histogram\n",
    "===================\n",
    "\n",
    "This example details a simple histogram. As long as DATABASE, type_plotted, and scalar_plotted are valid and meaningful, this histogram will work with any Sina-formatted database.\n",
    "\n",
    "By default, it creates a histogram for the \"depth\" scalar found in \"obs\" Records in the NOAA database, sorting those values into 50 bins. These and most other graph parameters can be changed in the following cell."
   ]
  },
  {
   "cell_type": "code",
   "execution_count": null,
   "metadata": {},
   "outputs": [],
   "source": [
    "import matplotlib.pyplot as plt\n",
    "import numpy as np\n",
    "\n",
    "import sina.datastores.sql as backend\n",
    "\n",
    "# Generate matplotlib plots in interactive mode\n",
    "%matplotlib notebook\n",
    "\n",
    "# Graph customization\n",
    "DATABASE = \"/collab/usr/gapps/wf/examples/data/noaa/noaa.sqlite\"\n",
    "type_plotted = \"obs\"\n",
    "scalar_plotted = \"depth\"\n",
    "num_bins = 50\n",
    "plot_title = \"Occurrence rate of {}\".format(scalar_plotted)\n",
    "y_label = \"# Occurrences\""
   ]
  },
  {
   "cell_type": "markdown",
   "metadata": {},
   "source": [
    "Now that the parameters have been set, we can extract our data and create the graph. You can tweak the parameters at any time; just edit the cell above, run it, then recreate the graph. You can of course keep the parameters and logic in the same cell (they're separated here for readability).\n",
    "\n",
    "Once displayed, you can interact with the plot through the buttons shown in the lower left corner below the plot *provided interaction is enabled*.  Options including pan, zoom, and download.  Click the left-most \"home\" button to restore the orignal layout."
   ]
  },
  {
   "cell_type": "code",
   "execution_count": null,
   "metadata": {},
   "outputs": [],
   "source": [
    "factory = backend.DAOFactory(DATABASE)\n",
    "rec_dao = factory.createRecordDAO()\n",
    "\n",
    "print(\"Loading the data from the database, which may take a while.\")\n",
    "\n",
    "# We first get all the records of a certain type\n",
    "records_of_interest = rec_dao.get_all_of_type(type_plotted)\n",
    "\n",
    "values = []\n",
    "# We then fetch the scalars for them\n",
    "for record in records_of_interest:\n",
    "    scalar = record['data'][scalar_plotted]\n",
    "    values.append(scalar['value'])\n",
    "\n",
    "units = scalar['units']\n",
    "\n",
    "print(\"The data is loaded.  Creating the plot.\")\n",
    "\n",
    "# Create the graph\n",
    "plt.hist(values, num_bins)\n",
    "plt.ylabel(y_label)\n",
    "plt.xlabel(units)\n",
    "plt.title(plot_title)\n",
    "\n",
    "plt.show()"
   ]
  }
 ],
 "metadata": {
  "kernelspec": {
   "display_name": "sina",
   "language": "python",
   "name": "sina"
  },
  "language_info": {
   "codemirror_mode": {
    "name": "ipython",
    "version": 2
   },
   "file_extension": ".py",
   "mimetype": "text/x-python",
   "name": "python",
   "nbconvert_exporter": "python",
   "pygments_lexer": "ipython2",
   "version": "2.7.10"
  }
 },
 "nbformat": 4,
 "nbformat_minor": 2
}
