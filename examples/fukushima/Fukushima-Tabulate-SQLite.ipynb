{
 "cells": [
  {
   "cell_type": "markdown",
   "metadata": {
    "extensions": {
     "jupyter_dashboards": {
      "version": 1,
      "views": {
       "grid_default": {},
       "report_default": {}
      }
     }
    }
   },
   "source": [
    "Fukushima Tabulate Example using SQLite Database\n",
    "==========================================\n",
    "This example illustrates basic queries used to list all of the data in the SQLite database in HTML tables.  The converter created the following four types of records:\n",
    "\n",
    "* **Source**: Paths to source and data dictionary files\n",
    "* **Experiments**: One record per flight\n",
    "* **Observations**: Each observation taken during each of the three flights\n",
    "* **Units**: One record for each measurement to provide efficient representation of units and a description\n",
    "\n",
    "All records will be output in a single table for each record type before all relationships are output in the final table.\n",
    "\n",
    "Make sure you have a Sina kernel selected before you begin.\n",
    "\n",
    "You can reconfigure this example to use your copy of the database by modifying **DB_PATH** in the next cell to point to the root directory of your copy of the Fukushima database.  Once the path is set properly, run the next cell."
   ]
  },
  {
   "cell_type": "code",
   "execution_count": null,
   "metadata": {
    "extensions": {
     "jupyter_dashboards": {
      "version": 1,
      "views": {
       "grid_default": {},
       "report_default": {}
      }
     }
    }
   },
   "outputs": [],
   "source": [
    "import os\n",
    "\n",
    "# Root directory containing the fukushima.sqlite database\n",
    "DB_PATH = '/collab/usr/gapps/wf/examples/data/fukushima/fukushima.sqlite'\n",
    "\n",
    "print('Path to the database is configured.  Ready to run the next cell.')"
   ]
  },
  {
   "cell_type": "markdown",
   "metadata": {
    "extensions": {
     "jupyter_dashboards": {
      "version": 1,
      "views": {
       "grid_default": {},
       "report_default": {}
      }
     }
    }
   },
   "source": [
    "Prepare to Perform Queries and Display Results\n",
    "======================================\n",
    "Create the data access object factory in preparation for record and relationship queries.  Also import the relevant Sina package(s) and define a function for displaying the data in an HTML table."
   ]
  },
  {
   "cell_type": "code",
   "execution_count": null,
   "metadata": {
    "extensions": {
     "jupyter_dashboards": {
      "version": 1,
      "views": {
       "grid_default": {},
       "report_default": {}
      }
     }
    }
   },
   "outputs": [],
   "source": [
    "import IPython.display as ipyd\n",
    "import sina.datastores.sql as sina_sql\n",
    "import tabulate\n",
    "\n",
    "# Create the data access object factory.\n",
    "factory = sina_sql.DAOFactory(DB_PATH)\n",
    "\n",
    "def display_table(rows):\n",
    "    \"\"\"Displays a table assuming the first row contains column headings\"\"\"\n",
    "    ipyd.display(ipyd.HTML(tabulate.tabulate(rows, tablefmt='html')))\n",
    "\n",
    "print('Ready to run the next cell.')"
   ]
  },
  {
   "cell_type": "markdown",
   "metadata": {
    "extensions": {
     "jupyter_dashboards": {
      "version": 1,
      "views": {
       "grid_default": {},
       "report_default": {}
      }
     }
    }
   },
   "source": [
    "Load and Display the Source Record\n",
    "=============================\n",
    "Load and display records of type \"source\".  There is actually only one record."
   ]
  },
  {
   "cell_type": "code",
   "execution_count": null,
   "metadata": {
    "extensions": {
     "jupyter_dashboards": {
      "version": 1,
      "views": {
       "grid_default": {},
       "report_default": {}
      }
     }
    }
   },
   "outputs": [],
   "source": [
    "print('Loading source record(s).')\n",
    "\n",
    "# Extract source record(s) from the database\n",
    "source_recs = factory.createRecordDAO().get_all_of_type(\"source\")\n",
    "\n",
    "# Build a list of table entries, one source per table row\n",
    "rows = [['Source Id', 'File URI', 'File Type', 'File Tag']]\n",
    "\n",
    "for source in source_recs:\n",
    "    id_ = source['id']\n",
    "\n",
    "    for file_ in source['files']:\n",
    "        uri = file_['uri']\n",
    "        file_type = file_['mimetype']\n",
    "        file_tags = file_['tags'][0]  # There's only one tag per file\n",
    "        rows.append([id_, uri, file_type, file_tags])\n",
    "\n",
    "# Display the rows in an HTML table\n",
    "display_table(rows)"
   ]
  },
  {
   "cell_type": "markdown",
   "metadata": {
    "extensions": {
     "jupyter_dashboards": {
      "version": 1,
      "views": {
       "grid_default": {},
       "report_default": {}
      }
     }
    }
   },
   "source": [
    "Load and Display Units Records\n",
    "==========================\n",
    "Load and display all of the records of type \"units\"."
   ]
  },
  {
   "cell_type": "code",
   "execution_count": null,
   "metadata": {
    "extensions": {
     "jupyter_dashboards": {
      "version": 1,
      "views": {
       "grid_default": {},
       "report_default": {}
      }
     }
    }
   },
   "outputs": [],
   "source": [
    "print('Loading units records.')\n",
    "\n",
    "# Extract the units records from the database\n",
    "unit_recs = factory.createRecordDAO().get_all_of_type(\"units\")\n",
    "\n",
    "# Prepare to save off the units for later use\n",
    "units_dict = {}\n",
    "\n",
    "# Build a list of table entries, one unit per row\n",
    "rows = [['Measurement', 'Units', 'Description']]\n",
    "\n",
    "for unit in unit_recs:\n",
    "    id_ = unit['id']\n",
    "    data = unit['data']\n",
    "    value = data['measure']['value']\n",
    "    rows.append([id_, value, data['description']['value']])\n",
    "    \n",
    "    units_dict[id_] = value\n",
    "\n",
    "# Display the rows in an HTML table\n",
    "display_table(rows)"
   ]
  },
  {
   "cell_type": "markdown",
   "metadata": {
    "extensions": {
     "jupyter_dashboards": {
      "version": 1,
      "views": {
       "grid_default": {},
       "report_default": {}
      }
     }
    }
   },
   "source": [
    "Load and Display Experiments Records\n",
    "================================\n",
    "Load and display all of the records of type \"exp\", which correspond to flights used to collect radiation measurements."
   ]
  },
  {
   "cell_type": "code",
   "execution_count": null,
   "metadata": {
    "extensions": {
     "jupyter_dashboards": {
      "version": 1,
      "views": {
       "grid_default": {},
       "report_default": {}
      }
     }
    }
   },
   "outputs": [],
   "source": [
    "print('Loading experiments records.')\n",
    "\n",
    "# Extract experiment record(s) from the database\n",
    "experiment_recs = factory.createRecordDAO().get_all_of_type(\"exp\")\n",
    "\n",
    "# Prepare to save off experiment ids for relationship queries\n",
    "exp_ids = []\n",
    "\n",
    "# Build a list of table entries, one experiment per table row\n",
    "rows = [['Experiment Id', 'Data Source']]\n",
    "\n",
    "for experiment in experiment_recs:\n",
    "    id_ = experiment['id']\n",
    "    exp_ids.append(id_)\n",
    "\n",
    "    rows.append([id_, experiment['files'][0]['uri']])\n",
    "\n",
    "# Display the rows in an HTML table\n",
    "display_table(rows)\n",
    "\n",
    "print('Ready to run the next cell.')"
   ]
  },
  {
   "cell_type": "markdown",
   "metadata": {
    "extensions": {
     "jupyter_dashboards": {
      "version": 1,
      "views": {
       "grid_default": {},
       "report_default": {}
      }
     }
    }
   },
   "source": [
    "Load and Display Observation Records\n",
    "===============================\n",
    "Load and display all of the records of type \"obs\", which correspond to radiation measurements taken during one of the flights."
   ]
  },
  {
   "cell_type": "code",
   "execution_count": null,
   "metadata": {
    "extensions": {
     "jupyter_dashboards": {
      "version": 1,
      "views": {
       "grid_default": {},
       "report_default": {}
      }
     }
    }
   },
   "outputs": [],
   "source": [
    "print('Loading observation records.  This may take a while.')\n",
    "\n",
    "# Extract the observation records from the database\n",
    "observation_recs = factory.createRecordDAO().get_all_of_type(\"obs\")\n",
    "\n",
    "# Build a list of table entries, one observation per table row\n",
    "rows = [\n",
    "    ['Observation Id', 'Date', 'Time', 'Latitude', 'Longitude',\n",
    "     'GPS Altitude','Sea Level Altitude', 'Live Time', 'Gross Counts']\n",
    "]\n",
    "scalars_of_interest = ['date', 'time', 'latitude', 'longitude', 'alt_hae',\n",
    "              'agl', 'live', 'gcnorm']\n",
    "\n",
    "# .. Add units to the header\n",
    "for index, scalar in enumerate(scalars_of_interest):\n",
    "    if scalar in units_dict.keys():\n",
    "        rows[0][index+1] = '%s (%s)' % (rows[0][index+1], units_dict[scalar])\n",
    "\n",
    "# .. Add observations to the output\n",
    "for observation in observation_recs:\n",
    "    values = [observation['id']]\n",
    "    values.extend(['' for _ in scalars_of_interest]) # allow for missing values\n",
    "    for index, scalar in enumerate(scalars_of_interest):\n",
    "        values[index+1] = observation['data'][scalar]['value']\n",
    "    rows.append(values)\n",
    "\n",
    "# Display the rows in an HTML table\n",
    "display_table(rows)"
   ]
  },
  {
   "cell_type": "markdown",
   "metadata": {
    "extensions": {
     "jupyter_dashboards": {
      "version": 1,
      "views": {
       "grid_default": {},
       "report_default": {}
      }
     }
    }
   },
   "source": [
    "Load and Display Relationships\n",
    "=========================\n",
    "Load and display all of the relationships, which consist solely of relationships between experiments (i.e., flights) and observations (i.e., measurements)."
   ]
  },
  {
   "cell_type": "code",
   "execution_count": null,
   "metadata": {},
   "outputs": [],
   "source": [
    "print('Loading relationships.  This may take a while.')\n",
    "\n",
    "# Extract relationship records from the database, for each experiment\n",
    "relationship_recs = factory.createRelationshipDAO()\n",
    "\n",
    "# Build a list of table entries, one quality control entry per row\n",
    "rows = [['Experiment Id', 'Relationship', 'Observation Id']]\n",
    "\n",
    "for eid in exp_ids:\n",
    "    relationships = relationship_recs.get(subject_id=eid)\n",
    "    for relation in relationships:\n",
    "        rows.append([eid, relation.predicate, relation.object_id])\n",
    "\n",
    "# Display the rows in an HTML table\n",
    "display_table(rows)"
   ]
  }
 ],
 "metadata": {
  "extensions": {
   "jupyter_dashboards": {
    "activeView": "grid_default",
    "version": 1,
    "views": {
     "grid_default": {
      "cellMargin": 10,
      "defaultCellHeight": 20,
      "maxColumns": 12,
      "name": "grid",
      "type": "grid"
     },
     "report_default": {
      "name": "report",
      "type": "report"
     }
    }
   }
  },
  "kernelspec": {
   "display_name": "sina",
   "language": "python",
   "name": "sina"
  },
  "language_info": {
   "codemirror_mode": {
    "name": "ipython",
    "version": 2
   },
   "file_extension": ".py",
   "mimetype": "text/x-python",
   "name": "python",
   "nbconvert_exporter": "python",
   "pygments_lexer": "ipython2",
   "version": "2.7.10"
  }
 },
 "nbformat": 4,
 "nbformat_minor": 2
}
