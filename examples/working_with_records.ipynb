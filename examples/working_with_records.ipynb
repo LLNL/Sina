{
 "cells": [
  {
   "cell_type": "markdown",
   "metadata": {},
   "source": [
    "# Working with Records\n",
    "\n",
    "A lot of what makes Sina a powerful tool is the ability to look for records of interest.\n",
    "For example, you can easily query millions of runs for the run where the temperature was\n",
    "the highest, or find all runs where it stayed between certain thresholds. Once you find\n",
    "your runs though, you are going to want to get values in them. This notebook will walk\n",
    "you through accessing information in the different sections of a record: the data section,\n",
    "the curve sets, and the data for libraries."
   ]
  },
  {
   "cell_type": "markdown",
   "metadata": {},
   "source": [
    "## Data\n",
    "\n",
    "The main section containing user-defined information about records is the `data` section. The full\n",
    "schema documentation can be found at\n",
    "https://lc.llnl.gov/workflow/docs/sina/sina_schema.html#records. The jist of it is that each\n",
    "data item is a dictionary with a required `value` field, and options `units` and `tags` fields.\n",
    "The example below shows to to construct a record with ID `'some_id'` and type `'run'`.\n",
    "It also contains two data items, `'energy'` and `'temerature'`, which have all the possible fields.\n",
    "In the example below, both `value` fields are numbers. Values can also be string, lists of numbers,\n",
    "and lists of strings."
   ]
  },
  {
   "cell_type": "code",
   "execution_count": null,
   "metadata": {},
   "outputs": [],
   "source": [
    "from __future__ import print_function\n",
    "from sina.model import Record\n",
    "import json\n",
    "\n",
    "# This record could have come back from a data store as well.\n",
    "record_1 = Record(\n",
    "    'some_id', 'run',\n",
    "    data={\n",
    "        'energy': {\n",
    "            'value': 123.456,\n",
    "            'units': 'J',\n",
    "            'tags': ['output', 'main'],\n",
    "        },\n",
    "        'temperature': {\n",
    "            'value': 987.6,\n",
    "            'units': 'K',\n",
    "            'tags': ['output', 'main'],\n",
    "        }\n",
    "    },\n",
    ")"
   ]
  },
  {
   "cell_type": "markdown",
   "metadata": {},
   "source": [
    "Once you have a record, you can access the\n",
    "[Record.data](https://lc.llnl.gov/workflow/docs/sina/generated_docs/sina.model.html#sina.model.Record.data)\n",
    "property to get an editable dictionary corresponding to the `data` section\n",
    "of the record."
   ]
  },
  {
   "cell_type": "code",
   "execution_count": null,
   "metadata": {},
   "outputs": [],
   "source": [
    "print(json.dumps(record_1.data, indent=4))"
   ]
  },
  {
   "cell_type": "markdown",
   "metadata": {},
   "source": [
    "You can get the individual items in this dictionary, such as `'energy'`, and then\n",
    "use that to get (or set) the value, units, or tags."
   ]
  },
  {
   "cell_type": "code",
   "execution_count": null,
   "metadata": {},
   "outputs": [],
   "source": [
    "energy_data = record_1.data['energy']\n",
    "print('energy_data is just a Python dictionary:', type(energy_data))\n",
    "print('Energy is ', energy_data['value'], energy_data['units'])\n",
    "print('Energy is tagged with', energy_data['tags'])\n",
    "\n",
    "energy_data['value'] = 15\n",
    "print('The energy has been updated in the original record:', record_1.data['energy']['value'])"
   ]
  },
  {
   "cell_type": "markdown",
   "metadata": {},
   "source": [
    "Oftentimes, you only care about the actual values, rather than the units or\n",
    "the tags. To simplify this, the `Record` class provides a\n",
    "[`data_values`](https://lc.llnl.gov/workflow/docs/sina/generated_docs/sina.model.html#sina.model.Record.data_values)\n",
    "property. This object allows you to directly access the values of the\n",
    "data items through by attribute access and subscript access."
   ]
  },
  {
   "cell_type": "code",
   "execution_count": null,
   "metadata": {},
   "outputs": [],
   "source": [
    "print('Energy is', record_1.data_values.energy)\n",
    "print('Can also access with subscript operator:', record_1.data_values['energy'])"
   ]
  },
  {
   "cell_type": "markdown",
   "metadata": {},
   "source": [
    "In addition to reading values, you can also set them. This does not\n",
    "change the units or tags if they were already set."
   ]
  },
  {
   "cell_type": "code",
   "execution_count": null,
   "metadata": {},
   "outputs": [],
   "source": [
    "record_1.data_values.energy = 20\n",
    "print('Energy has been updated, leaving tags and units alone ', record_1.data['energy'])"
   ]
  },
  {
   "cell_type": "markdown",
   "metadata": {},
   "source": [
    "Finally, you can use this feature to add completely new data items.\n",
    "These will not have tags or units. If you want tags or units, use\n",
    "[`Record.add_data()`](https://lc.llnl.gov/workflow/docs/sina/generated_docs/sina.model.html#sina.model.Record.add_data)\n",
    "instead."
   ]
  },
  {
   "cell_type": "code",
   "execution_count": null,
   "metadata": {},
   "outputs": [],
   "source": [
    "record_1.data_values.my_new_value = 100\n",
    "print('Units and tags for new items are not set:', record_1.data['my_new_value'])"
   ]
  },
  {
   "cell_type": "markdown",
   "metadata": {},
   "source": [
    "## Curve Sets\n",
    "\n",
    "Curve sets are used to describe related curves: an independent variable and a set of\n",
    "dependent variables. Like that a `data` section, the `curve_sets` section is a top-level\n",
    "element of `Records`. The example below creates a records with a curve set named `'cs1'`,\n",
    "whose indepdendent variables is `'time'`, and has two dependent variables:\n",
    "`'energy'` and `'temperature'`."
   ]
  },
  {
   "cell_type": "code",
   "execution_count": null,
   "metadata": {},
   "outputs": [],
   "source": [
    "record_2 = Record(\n",
    "    'some_id', 'run',\n",
    "    curve_sets={\n",
    "        'cs1': {\n",
    "            'independent': {\n",
    "                'time': {\n",
    "                    'value': [0.1, 0.2, 0.3, 0.4, 0.5]\n",
    "                }\n",
    "            },\n",
    "            'dependent': {\n",
    "                'energy': {\n",
    "                    'value': [12.34, 56.78, 90.12, 34.56],\n",
    "                    'units': 'J'\n",
    "                },\n",
    "                'temperature': {\n",
    "                    'value': [50, 60, 70, 65, 30],\n",
    "                    'units': 'K'\n",
    "                }\n",
    "            }\n",
    "        }\n",
    "    },\n",
    ")"
   ]
  },
  {
   "cell_type": "markdown",
   "metadata": {},
   "source": [
    "To access the curve sets in as record, you can use the\n",
    "[`Record.curve_sets`](https://lc.llnl.gov/workflow/docs/sina/generated_docs/sina.model.html#sina.model.Record.curve_sets)\n",
    "property. This gives you direct access to the Python dictionary containing the data\n",
    "for the curve sets."
   ]
  },
  {
   "cell_type": "code",
   "execution_count": null,
   "metadata": {},
   "outputs": [],
   "source": [
    "print('The full curve set is a python dictionary:', record_2.curve_sets['cs1'])\n",
    "print('Time values are', record_2.curve_sets['cs1']['independent']['time']['value'])"
   ]
  },
  {
   "cell_type": "markdown",
   "metadata": {},
   "source": [
    "Just like how for `Record.data` there is a `Record.data_values` property to more succinctly access\n",
    "just the values, there is a `curve_set_values` property which allows you to succinctly access\n",
    "the values of curve sets. You can use both attribute and subscript access. Also, you don't\n",
    "have to worry about whether a particular curve is the dependent or independent one, though\n",
    "you can be explicit about this if you wish."
   ]
  },
  {
   "cell_type": "code",
   "execution_count": null,
   "metadata": {},
   "outputs": [],
   "source": [
    "record_2.curve_set_values.cs1.time\n",
    "record_2.curve_set_values.cs1.independent.time\n",
    "record_2.curve_set_values['cs1']['time']\n",
    "record_2.curve_set_values['cs1'].independent['time']\n",
    "\n",
    "record_2.curve_set_values.cs1.energy"
   ]
  },
  {
   "cell_type": "markdown",
   "metadata": {},
   "source": [
    "Just like with `data_values`, `curve_set_values` also allows you to add new\n",
    "curve sets to records. Here, though, you do have to be explicit about where\n",
    "(depdendent or independent), you are adding them."
   ]
  },
  {
   "cell_type": "code",
   "execution_count": null,
   "metadata": {},
   "outputs": [],
   "source": [
    "record_2.curve_set_values.cs1.dependent.new_entry = [-1, -2, -3, -4, -5]\n",
    "print(record_2.curve_sets['cs1']['dependent']['new_entry'])"
   ]
  },
  {
   "cell_type": "markdown",
   "metadata": {},
   "source": [
    "## Library Data\n",
    "\n",
    "In addition to `data` and `curve_sets`, Sina provides a hierarchical section called\n",
    "`library_data`. This is intended for software libraries running in simulation codes to\n",
    "be able to add their own data sections. However, it can really be used for any nested data.\n",
    "The `library_data` section can contain its own `data`, `curve_sets`, and `library_data`\n",
    "sections."
   ]
  },
  {
   "cell_type": "code",
   "execution_count": null,
   "metadata": {},
   "outputs": [],
   "source": [
    "record_3 = Record(\n",
    "    'some_id', 'run',\n",
    "    library_data={\n",
    "        'my_library': {\n",
    "            'data': {\n",
    "                'helium_volume': {\n",
    "                    'value': 12.34\n",
    "                },\n",
    "                'hydrogen_volume': {\n",
    "                    'value': 56.78\n",
    "                }\n",
    "            },\n",
    "            'curve_sets': {\n",
    "                'cs1': {\n",
    "                    'independent': {\n",
    "                        'time': {\n",
    "                            'value': [0.1, 0.2, 0.3, 0.4, 0.5]\n",
    "                        }\n",
    "                    },\n",
    "                    'dependent': {\n",
    "                        'energy': {\n",
    "                            'value': [12.34, 56.78, 90.12, 34.56],\n",
    "                            'units': 'J'\n",
    "                        },\n",
    "                        'temperature': {\n",
    "                            'value': [50, 60, 70, 65, 30],\n",
    "                            'units': 'K'\n",
    "                        }\n",
    "                    }\n",
    "                }\n",
    "            },\n",
    "            'library_data': {\n",
    "                'my_nested_library': {\n",
    "                    'data': {\n",
    "                        'max_iterations': {\n",
    "                            'value': 200\n",
    "                        }\n",
    "                    }\n",
    "                }\n",
    "            }\n",
    "        }\n",
    "    }\n",
    ")"
   ]
  },
  {
   "cell_type": "markdown",
   "metadata": {},
   "source": [
    "Just like with `data` and `curve_sets`, we can use the `library_data` property\n",
    "to get the Python dictionary for a given library. However, if all you want is\n",
    "the values (and not tags our units), you can use the `library_data_values`\n",
    "property instead."
   ]
  },
  {
   "cell_type": "code",
   "execution_count": null,
   "metadata": {},
   "outputs": [],
   "source": [
    "print('Helium occupies a volume of',\n",
    "      record_3.library_data['my_library']['data']['helium_volume']['value'])\n",
    "print('It is easier to access values through \"library_data_values\"',\n",
    "      record_3.library_data_values.my_library.data.hydrogen_volume)"
   ]
  },
  {
   "cell_type": "markdown",
   "metadata": {},
   "source": [
    "You can also set values and, access curve sets, and reach values in nested libraries."
   ]
  },
  {
   "cell_type": "code",
   "execution_count": null,
   "metadata": {},
   "outputs": [],
   "source": [
    "record_3.library_data_values.my_library.data.new_entry = 10"
   ]
  },
  {
   "cell_type": "code",
   "execution_count": null,
   "metadata": {},
   "outputs": [],
   "source": [
    "record_3.library_data_values.my_library.curve_sets.cs1.temperature"
   ]
  },
  {
   "cell_type": "code",
   "execution_count": null,
   "metadata": {},
   "outputs": [],
   "source": [
    "record_3.library_data_values.my_library.library_data.my_nested_library.data.max_iterations"
   ]
  }
 ],
 "metadata": {
  "kernelspec": {
   "display_name": "sina",
   "language": "python",
   "name": "sina"
  },
  "language_info": {
   "codemirror_mode": {
    "name": "ipython",
    "version": 3
   },
   "file_extension": ".py",
   "mimetype": "text/x-python",
   "name": "python",
   "nbconvert_exporter": "python",
   "pygments_lexer": "ipython3",
   "version": "3.7.2"
  }
 },
 "nbformat": 4,
 "nbformat_minor": 4
}
