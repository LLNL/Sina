{
 "cells": [
  {
   "cell_type": "markdown",
   "metadata": {},
   "source": [
    "Sina's Visualization Module\n",
    "======================\n",
    "\n",
    "Sina includes matplotlib integrations for quick and easy visualizations. These are an extension of Sina's idea of \"querying across runs\", as explained over in the basic usage tutorial, except (of course) the results are shown visually. In general, visualizations are more useful for exploring data, while the parts of the API covered in [basic usage](basic_usage.ipynb) are more useful for scripting and post processing.\n",
    "\n",
    "We'll start with basic setup. But first...\n",
    "\n",
    "\n",
    "> **Enable interactive mode if you can!**\n",
    "Simply uncomment `%matplotlib notebook` in the cell below. This only works if you're running the notebook--having it enabled breaks the static docs, which is why it's disabled by default. Note that this part of Matplotlib can be somewhat fragile. If you're running Jupyter through something else and it doesn't seem to be working, try doing things directly in the browser. LC users, use [the CZ (or RZ) Jupyter instance](https://lc.llnl.gov/jupyter) to save setup time and access data straight from the machines!"
   ]
  },
  {
   "cell_type": "code",
   "execution_count": null,
   "metadata": {},
   "outputs": [],
   "source": [
    "import random\n",
    "import warnings\n",
    "\n",
    "import sina\n",
    "from sina.visualization import Visualizer\n",
    "from sina.model import CurveSet\n",
    "\n",
    "import matplotlib.pyplot as plt\n",
    "plt.style.use('dark_background')\n",
    "\n",
    "#########################\n",
    "# %matplotlib notebook\n",
    "#########################\n",
    "\n",
    "# Using interactive visualizations without setting the notebook mode would usually print warnings.\n",
    "# We silence them here to keep things friendly to web readers.\n",
    "warnings.filterwarnings(\"ignore\")\n",
    "\n",
    "ds = sina.connect()\n",
    "record_handler = ds.records\n",
    "\n",
    "print(\"Connection is ready!\")"
   ]
  },
  {
   "cell_type": "markdown",
   "metadata": {},
   "source": [
    "Loading in data\n",
    "----------------\n",
    "\n",
    "We'll insert a hundred randomly-generated records with some simple data to visualize."
   ]
  },
  {
   "cell_type": "code",
   "execution_count": null,
   "metadata": {},
   "outputs": [],
   "source": [
    "possible_mode = [\"quick\", \"standard\", \"test\", \"high-def\"]\n",
    "possible_machine = [\"Quartz\", \"Catalyst\", \"local\", \"Sierra\", \"Lassen\", \"Ruby\"]\n",
    "\n",
    "num_data_records = 100\n",
    "\n",
    "for val in range(0, num_data_records):\n",
    "    # Our sample \"code runs\" are mostly random data\n",
    "    record = sina.model.Record(id=\"rec_{}\".format(val), type=\"foo_type\")\n",
    "    record.add_data('total_energy', random.randint(0, 1000) / 10.0)\n",
    "    record.add_data('start_time', 0)\n",
    "    record.add_data('elapsed_time', random.randint(1, 200))\n",
    "    record.add_data('initial_volume', val)\n",
    "    record.add_data('final_volume', val * random.randint(1, int(num_data_records / 5)))\n",
    "    record.add_data('num_procs', random.randint(1, 4))\n",
    "    record.add_data('mode', random.choice(possible_mode))\n",
    "    record.add_data('machine', random.choice(possible_machine))\n",
    "    record.add_data('fibonacci_scramble', random.sample([1, 1, 2, 3, 5, 8, 13], 7))\n",
    "    cs1 = CurveSet(\"quick_sample\")\n",
    "    cs1.add_independent(\"time\", [1, 2, 3, 4])\n",
    "    cs1.add_dependent(\"local_density\", random.sample(range(1, 10), 4))\n",
    "    cs1.add_dependent(\"est_overall_density\", random.sample(range(1, 10), 4))\n",
    "    record.add_curve_set(cs1)\n",
    "    cs2 = CurveSet(\"slow_sample\")\n",
    "    cs2.add_independent(\"longer_timestep\", [2, 4])\n",
    "    cs2.add_dependent(\"overall_density\", random.sample(range(1, 10), 2))\n",
    "    record.add_curve_set(cs2)\n",
    "    if random.randint(1, 6) == 6:\n",
    "        record.add_file(\"{}_log.txt\".format(val))\n",
    "    record_handler.insert(record)\n",
    "\n",
    "print(\"{} Records have been inserted into the database.\".format(num_data_records + 1))"
   ]
  },
  {
   "cell_type": "markdown",
   "metadata": {},
   "source": [
    "Setting Up a Visualization (Histogram)\n",
    "--------------\n",
    "\n",
    "Create a Visualizer object, then use it to create your plot of choice. The only required setting is what Sina data to use.\n",
    "\n",
    "Unlike standard matplotlib, Sina's histogram implementation supports both scalar and string data."
   ]
  },
  {
   "cell_type": "code",
   "execution_count": null,
   "metadata": {},
   "outputs": [],
   "source": [
    "vis = Visualizer(ds)\n",
    "\n",
    "# A histogram of string data\n",
    "# The final .display() forces a redraw, and is included only for the sake of the online documentation, to ensure\n",
    "# it displays. The visualizer automatically shows graphs you make; you usually won't need display()!\n",
    "vis.create_histogram(x=\"machine\").display()\n",
    "\n",
    "# A 2d histogram with both scalar and string data\n",
    "vis.create_histogram(x=\"machine\", y=\"final_volume\").display()"
   ]
  },
  {
   "cell_type": "markdown",
   "metadata": {},
   "source": [
    "Interactive Mode\n",
    "-----------------\n",
    "\n",
    "\"Interactive mode\" includes Jupyter widgets that allow you to configure your graph on the fly. The histogram will now include a dropdown selection for which data to plot on the x axis. \n",
    "\n",
    "**IMPORTANT: Matplotlib's interactive mode can be finicky! If you run an interactive cell and the dropdown isn't doing anything, try inserting a** `%matplotlib notebook`"
   ]
  },
  {
   "cell_type": "code",
   "execution_count": null,
   "metadata": {},
   "outputs": [],
   "source": [
    "# Enabling interactive mode\n",
    "interactive_hist = vis.create_histogram(x=\"machine\", y=\"final_volume\", interactive=True)\n",
    "# The additional \"show\" calls are also for the sake of the online documentation. You can leave them off if you're\n",
    "# doing things locally; it's essentially half of a display() call.\n",
    "interactive_hist.fig.show()"
   ]
  },
  {
   "cell_type": "markdown",
   "metadata": {},
   "source": [
    "Scatter Plots\n",
    "---------------\n",
    "\n",
    "Sina supports a number of other visualizations. Scatter plots may be particularly useful. All plots support both interactive and non-interactive modes, and scatter plots support an optional z axis and color bar.\n",
    "\n",
    "Note: only axes are interactive at this time, `color_val` requires manual setting.  "
   ]
  },
  {
   "cell_type": "code",
   "execution_count": null,
   "metadata": {},
   "outputs": [],
   "source": [
    "interactive_scatter = vis.create_scatter_plot(x=\"initial_volume\", y=\"final_volume\", z=\"elapsed_time\", color_val=\"total_energy\", interactive=True)\n",
    "interactive_scatter.fig.show()"
   ]
  },
  {
   "cell_type": "markdown",
   "metadata": {},
   "source": [
    "Configuring Visualizations\n",
    "-------------------------------\n",
    "\n",
    "Because Sina is using matplotlib under the hood, it can both receive and pass a number of configurations. For example, you can pass it an existing figure and axis, give it a title, or hand it configuration keyword arguments to pass directly to matplotlib, such as plot color."
   ]
  },
  {
   "cell_type": "code",
   "execution_count": null,
   "metadata": {},
   "outputs": [],
   "source": [
    "fig, ax = plt.subplots(1, 1, figsize=(8, 4))\n",
    "settings = {\"cmap\": \"magma\", \"alpha\": 0.25}\n",
    "vis.create_scatter_plot(fig=fig, ax=ax,\n",
    "                        title=\"My Cool Graph of Initial vs. Final Volume\",\n",
    "                        x=\"initial_volume\", y=\"final_volume\",\n",
    "                        color_val=\"total_energy\",\n",
    "                        matplotlib_options=settings).display()\n",
    "ax.set_xlabel(\"Final Volume (m^3)\")\n",
    "_ = ax.set_ylabel(\"Initial Volume (m^3)\")  # The _ = silences some Jupyter text output"
   ]
  },
  {
   "cell_type": "markdown",
   "metadata": {},
   "source": [
    "You can also configure your interactive visualizations to have only certain data available for selection. This is useful, for example, for data sets where many parameters are constant. If all of your runs contain `do_print=1` and `ndims=2`, you may not want to see `do_print` and `ndims` in the drop-down menu."
   ]
  },
  {
   "cell_type": "code",
   "execution_count": null,
   "metadata": {},
   "outputs": [],
   "source": [
    "config_hist = vis.create_histogram(\"machine\", selectable_data=[\"final_volume\", \"machine\"], interactive=True,\n",
    "                                   matplotlib_options={\"color\": \"darkgreen\"})\n",
    "config_hist.fig.show()"
   ]
  },
  {
   "cell_type": "markdown",
   "metadata": {},
   "source": [
    "The module also provides a utility method for filtering out scalar and string constants. Visualizer's `get_contained_data_names` returns a dictionary of types of data, and will exclude constants with `filter_constants=True`."
   ]
  },
  {
   "cell_type": "code",
   "execution_count": null,
   "metadata": {},
   "outputs": [],
   "source": [
    "non_constant_data = vis.get_contained_data_names(filter_constants=True)\n",
    "\n",
    "var_hist = vis.create_histogram(\"final_volume\", \"total_energy\", selectable_data=non_constant_data[\"scalar\"], interactive=True)\n",
    "var_hist.fig.show()"
   ]
  },
  {
   "cell_type": "markdown",
   "metadata": {},
   "source": [
    "Line plots\n",
    "-----------\n",
    "\n",
    "Sina's line plots come with a special option: curve set selection. If you don't specify a curve set, you'll have the selection of **all** scalar list data found in a record, regardless of size or association.\n",
    "\n",
    "Note that, due to the nature of line plots, you'll likely want to restrict them to a subset of records. You can use the `id_pool` argument to do so. All visualizations accept an `id_pool`.\n",
    "\n",
    "The curve set dropdown includes a special option that will allow you to choose interactively from ANY scalar curve data found in a Record's data section. Use with caution! Scalar lists of different sizes can't be plotted against one another."
   ]
  },
  {
   "cell_type": "code",
   "execution_count": null,
   "metadata": {},
   "outputs": [],
   "source": [
    "# You can pass id_pool at the Visualizer level, or per visualization.\n",
    "# curve_vis = Visualizer(ds, id_pool=[\"rec_1\", \"rec_2\", \"rec_3\"])\n",
    "\n",
    "curve_plot = vis.create_line_plot(x=\"time\", y=\"local_density\", curve_set=\"quick_sample\", interactive=True,\n",
    "                                  id_pool=[\"rec_1\", \"rec_2\", \"rec_3\"])\n",
    "curve_plot.fig.show()"
   ]
  },
  {
   "cell_type": "markdown",
   "metadata": {},
   "source": [
    "Further plot types\n",
    "---------------------\n",
    "\n",
    "This tutorial only covers the most basic types of plot. See the [Visualizer documentation](../generated_docs/sina.visualization.rst) for the full list, and reach out to siboka@llnl.gov if there's more you'd like to see!"
   ]
  },
  {
   "cell_type": "code",
   "execution_count": null,
   "metadata": {},
   "outputs": [],
   "source": [
    "surface_plot = vis.create_surface_plot(x=\"initial_volume\", y=\"elapsed_time\", z=\"final_volume\", interactive=True)\n",
    "surface_plot.fig.show()"
   ]
  },
  {
   "cell_type": "markdown",
   "metadata": {},
   "source": [
    "# Violin and Box Plots"
   ]
  },
  {
   "cell_type": "code",
   "execution_count": null,
   "metadata": {
    "scrolled": false
   },
   "outputs": [],
   "source": [
    "%matplotlib notebook\n",
    "violin_box_plot = vis.create_violin_box_plot(x=\"final_volume\", interactive=True)\n",
    "violin_box_plot.fig.show()"
   ]
  },
  {
   "cell_type": "markdown",
   "metadata": {},
   "source": [
    "# PDF and CDF Plots"
   ]
  },
  {
   "cell_type": "code",
   "execution_count": null,
   "metadata": {
    "scrolled": false
   },
   "outputs": [],
   "source": [
    "%matplotlib notebook\n",
    "pdf_cdf_plot = vis.create_pdf_cdf_plot(x=\"final_volume\", interactive=True)\n",
    "pdf_cdf_plot.fig.show()"
   ]
  },
  {
   "cell_type": "code",
   "execution_count": null,
   "metadata": {},
   "outputs": [],
   "source": []
  }
 ],
 "metadata": {
  "kernelspec": {
   "display_name": "sina",
   "language": "python",
   "name": "sina"
  },
  "language_info": {
   "codemirror_mode": {
    "name": "ipython",
    "version": 3
   },
   "file_extension": ".py",
   "mimetype": "text/x-python",
   "name": "python",
   "nbconvert_exporter": "python",
   "pygments_lexer": "ipython3",
   "version": "3.7.2"
  }
 },
 "nbformat": 4,
 "nbformat_minor": 2
}
