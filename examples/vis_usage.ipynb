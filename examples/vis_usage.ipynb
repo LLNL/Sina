{
 "cells": [
  {
   "cell_type": "markdown",
   "metadata": {},
   "source": [
    "Sina's visualization module\n",
    "===========================\n",
    "\n",
    "Sina includes matplotlib integrations that allow for quick creation of common visualizations. If there are more types of visualization you'd like to see, let us know at siboka@llnl.gov! For now, we support a basic set.\n",
    "\n",
    "We'll start with basic setup. Note that **matplotlib's interactive mode is required** for interactive visualizations. Sina cannot set this itself! Use `%matplotlib notebook` as shown in the cell below to set matplotlib to interactive mode."
   ]
  },
  {
   "cell_type": "code",
   "execution_count": null,
   "metadata": {},
   "outputs": [],
   "source": [
    "import random\n",
    "\n",
    "import sina\n",
    "from sina.visualization import Visualizer\n",
    "from sina.model import CurveSet\n",
    "\n",
    "import matplotlib.pyplot as plt\n",
    "\n",
    "# Enable interactive mode for all graphs. Interactive mode is REQUIRED for interactive=True visualization!\n",
    "%matplotlib notebook\n",
    "\n",
    "ds = sina.connect()\n",
    "record_handler = ds.records\n",
    "\n",
    "print(\"Connection is ready!\")"
   ]
  },
  {
   "cell_type": "markdown",
   "metadata": {},
   "source": [
    "Loading in data\n",
    "----------------\n",
    "\n",
    "We'll insert a hundred randomly-generated records with some simple data to visualize."
   ]
  },
  {
   "cell_type": "code",
   "execution_count": null,
   "metadata": {},
   "outputs": [],
   "source": [
    "possible_mode = [\"quick\", \"standard\", \"test\", \"high-def\"]\n",
    "possible_machine = [\"Quartz\", \"Catalyst\", \"local\", \"Sierra\", \"Lassen\", \"Ruby\"]\n",
    "\n",
    "num_data_records = 100\n",
    "\n",
    "for val in range(0, num_data_records):\n",
    "    # Our sample \"code runs\" are mostly random data\n",
    "    record = sina.model.Record(id=\"rec_{}\".format(val), type=\"foo_type\")\n",
    "    record.add_data('total_energy', random.randint(0, 1000) / 10.0)\n",
    "    record.add_data('start_time', 0)\n",
    "    record.add_data('elapsed_time', random.randint(1, 200))\n",
    "    record.add_data('initial_volume', val)\n",
    "    record.add_data('final_volume', val * random.randint(1, int(num_data_records / 5)))\n",
    "    record.add_data('num_procs', random.randint(1, 4))\n",
    "    record.add_data('mode', random.choice(possible_mode))\n",
    "    record.add_data('machine', random.choice(possible_machine))\n",
    "    record.add_data('fibonacci_scramble', random.sample([1, 1, 2, 3, 5, 8, 13], 7))\n",
    "    cs1 = CurveSet(\"quick_sample\")\n",
    "    cs1.add_independent(\"time\", [1, 2, 3, 4])\n",
    "    cs1.add_dependent(\"local_density\", random.sample(range(1, 10), 4))\n",
    "    cs1.add_dependent(\"est_overall_density\", random.sample(range(1, 10), 4))\n",
    "    record.add_curve_set(cs1)\n",
    "    cs2 = CurveSet(\"slow_sample\")\n",
    "    cs2.add_independent(\"longer_timestep\", [2, 4])\n",
    "    cs2.add_dependent(\"overall_density\", random.sample(range(1, 10), 2))\n",
    "    record.add_curve_set(cs2)\n",
    "    if random.randint(1, 6) == 6:\n",
    "        record.add_file(\"{}_log.txt\".format(val))\n",
    "    record_handler.insert(record)\n",
    "\n",
    "print(\"{} Records have been inserted into the database.\".format(num_data_records + 1))"
   ]
  },
  {
   "cell_type": "markdown",
   "metadata": {},
   "source": [
    "Basic usage\n",
    "--------------\n",
    "\n",
    "Create a Visualizer object, then use it to create your plot of choice. The only required setting is what Sina data to use.\n",
    "\n",
    "Unlike standard matplotlib, Sina's histogram implementation supports both scalar and string data.\n",
    "\n",
    "You may notice the output of an internal Sina object. That's a Jupyter feature where it automatically prints the result of the last call in a cell; it'll vanish if the create_histogram() call isn't the last one (ex: you end with a print call), or you can silence it by assignment (`_ = vis.create_histogram(...)`)"
   ]
  },
  {
   "cell_type": "code",
   "execution_count": null,
   "metadata": {},
   "outputs": [],
   "source": [
    "vis = Visualizer(ds)\n",
    "\n",
    "# A histogram of scalar data\n",
    "vis.create_histogram(x=\"final_volume\")\n",
    "\n",
    "# A histogram of string data\n",
    "vis.create_histogram(x=\"machine\")"
   ]
  },
  {
   "cell_type": "markdown",
   "metadata": {},
   "source": [
    "Interactive usage\n",
    "-----------------\n",
    "\n",
    "\"Interactive mode\" includes Jupyter widgets that allow you to configure your graph on the fly. The histogram will now include a dropdown selection for which data to plot on the x axis. \n",
    "\n",
    "**IMPORTANT: Matplotlib's interactive mode can be finicky! If you run an interactive cell and the dropdown isn't doing anything, try inserting another `%matplotlib notebook`, as below.**"
   ]
  },
  {
   "cell_type": "code",
   "execution_count": null,
   "metadata": {},
   "outputs": [],
   "source": [
    "# Matplotlib is a bit finicky, and often needs it called twice. Hopefully that gets fixed. For now, this is\n",
    "# here to provide some safety.\n",
    "%matplotlib notebook\n",
    "\n",
    "# Enabling interactive mode\n",
    "_ = vis.create_histogram(\"machine\", interactive=True)"
   ]
  },
  {
   "cell_type": "markdown",
   "metadata": {},
   "source": [
    "Scatter Plots\n",
    "---------------\n",
    "\n",
    "Sina supports a number of other visualizations. Scatter plots may be particularly useful. All plots support both interactive and non-interactive modes."
   ]
  },
  {
   "cell_type": "code",
   "execution_count": null,
   "metadata": {},
   "outputs": [],
   "source": [
    "vis.create_scatter_plot(x=\"start_time\", y=\"elapsed_time\", interactive=True)"
   ]
  },
  {
   "cell_type": "markdown",
   "metadata": {},
   "source": [
    "Configuring your visualizations\n",
    "------------------------------------\n",
    "\n",
    "Because Sina is using matplotlib under the hood, it can both receive and pass a number of configurations. For example, you can pass it an existing figure and axis, give it a title, or hand it configuration keyword arguments to pass directly to matplotlib, such as plot color."
   ]
  },
  {
   "cell_type": "code",
   "execution_count": null,
   "metadata": {},
   "outputs": [],
   "source": [
    "fig, ax = plt.subplots(1, 1, figsize=(8, 4))\n",
    "settings = {\"color\": \"orange\", \"alpha\": 0.25}\n",
    "vis.create_scatter_plot(fig=fig, ax=ax,\n",
    "                        title=\"My cool graph of {x_name}\",\n",
    "                        x=\"initial_volume\", y=\"final_volume\",\n",
    "                        matplotlib_options=settings)"
   ]
  },
  {
   "cell_type": "markdown",
   "metadata": {},
   "source": [
    "You can also configure your interactive visualizations to have only certain data available for selection. This is useful, for example, for data sets where many parameters are constant. If all of your runs contain `do_print=1` and `ndims=2`, you may not want to see `do_print` and `ndims` in the drop-down menu."
   ]
  },
  {
   "cell_type": "code",
   "execution_count": null,
   "metadata": {},
   "outputs": [],
   "source": [
    "vis.create_histogram(\"machine\", selectable_data=[\"final_volume\", \"machine\"], interactive=True)"
   ]
  },
  {
   "cell_type": "markdown",
   "metadata": {},
   "source": [
    "The module also provides a utility method for filtering out scalar and string constants. Visualizer's `get_contained_data_names` returns a dictionary of types of data, and will exclude constants with `filter_constants=True`."
   ]
  },
  {
   "cell_type": "code",
   "execution_count": null,
   "metadata": {},
   "outputs": [],
   "source": [
    "non_constant_data = vis.get_contained_data_names(filter_constants=True)\n",
    "\n",
    "vis.create_histogram(\"final_volume\", selectable_data=non_constant_data[\"scalar\"], interactive=True)"
   ]
  },
  {
   "cell_type": "markdown",
   "metadata": {},
   "source": [
    "Line plots\n",
    "-----------\n",
    "\n",
    "Sina's line plots come with a special option: curve set selection. If you don't specify a curve set, you'll have the selection of **all** scalar list data found in a record, regardless of size or association.\n",
    "\n",
    "Note that, due to the nature of line plots, you'll likely want to restrict them to a subset of records. You can use the `id_pool` argument to do so. You can also pass an `id_pool` at the Visualizer level, in which case all visualizations created from it will inherit its id_pool. All visualizations accept an `id_pool`.\n",
    "\n",
    "The curve set dropdown includes a special option that will allow you to choose interactively from ANY scalar curve data found in a Record's data section. Use with caution! Scalar lists of different sizes can't be plotted against one another."
   ]
  },
  {
   "cell_type": "code",
   "execution_count": null,
   "metadata": {},
   "outputs": [],
   "source": [
    "# You can pass id_pool at the Visualizer level, or per visualization.\n",
    "# curve_vis = Visualizer(ds, id_pool=[\"rec_1\", \"rec_2\", \"rec_3\"])\n",
    "\n",
    "_ = vis.create_line_plot(x=\"time\", y=\"local_density\", curve_set=\"quick_sample\", interactive=True,\n",
    "                         id_pool=[\"rec_1\", \"rec_2\", \"rec_3\"])"
   ]
  },
  {
   "cell_type": "markdown",
   "metadata": {},
   "source": [
    "Further plot types\n",
    "---------------------\n",
    "\n",
    "See the API documentation for all plot types supported, and remember to reach out to siboka@llnl.gov if there's more you'd like to see!"
   ]
  },
  {
   "cell_type": "code",
   "execution_count": null,
   "metadata": {},
   "outputs": [],
   "source": [
    "vis.create_surface_plot(x=\"initial_volume\", y=\"elapsed_time\", z=\"final_volume\", interactive=True)"
   ]
  }
 ],
 "metadata": {
  "kernelspec": {
   "display_name": "sina-test",
   "language": "python",
   "name": "sina-test"
  },
  "language_info": {
   "codemirror_mode": {
    "name": "ipython",
    "version": 2
   },
   "file_extension": ".py",
   "mimetype": "text/x-python",
   "name": "python",
   "nbconvert_exporter": "python",
   "pygments_lexer": "ipython2",
   "version": "2.7.16"
  }
 },
 "nbformat": 4,
 "nbformat_minor": 2
}
