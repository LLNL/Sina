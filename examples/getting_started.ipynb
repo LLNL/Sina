{
 "cells": [
  {
   "cell_type": "markdown",
   "metadata": {},
   "source": [
    "Getting Started\n",
    "============\n",
    "\n",
    "To make sure Sina and its dependencies are available, you'll need to generate a Jupyter kernel that uses our environment. Run this cell to create the kernel:"
   ]
  },
  {
   "cell_type": "code",
   "execution_count": null,
   "metadata": {},
   "outputs": [],
   "source": [
    "%%bash\n",
    "source /collab/usr/gapps/wf/releases/sina && python -m ipykernel install --prefix=$HOME/.local/ --name 'sina' --display-name 'sina'"
   ]
  },
  {
   "cell_type": "markdown",
   "metadata": {},
   "source": [
    "There will now be a new kernel available called \"sina\". Select `Kernel > Change kernel > sina venv` from the top bar to use it, then run the next cell to verify everything's working. If you don't see `sina` as an option, you may need to refresh this page."
   ]
  },
  {
   "cell_type": "code",
   "execution_count": null,
   "metadata": {},
   "outputs": [],
   "source": [
    "import sina.datastores\n",
    "print(\"Sina loaded successfully--you're ready to use the notebooks!\")"
   ]
  }
 ],
 "metadata": {
  "kernelspec": {
   "display_name": "Python 2",
   "language": "python",
   "name": "python2"
  },
  "language_info": {
   "codemirror_mode": {
    "name": "ipython",
    "version": 2
   },
   "file_extension": ".py",
   "mimetype": "text/x-python",
   "name": "python",
   "nbconvert_exporter": "python",
   "pygments_lexer": "ipython2",
   "version": "2.7.10"
  }
 },
 "nbformat": 4,
 "nbformat_minor": 2
}
