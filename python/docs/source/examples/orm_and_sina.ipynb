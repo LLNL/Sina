{
 "cells": [
  {
   "cell_type": "markdown",
   "metadata": {},
   "source": [
    "# Mixing Sina Records and ORMS\n",
    "\n",
    "Sina offers great flexibility and does not enforce any limitation on the numbers of columns you can have on a Record table. But as a result this can make it difficult to use Sina Records with others ORM-based tools.\n",
    "\n",
    "Fortunately sqlalchemy offers the notion of *virtual columns* and one can use these in conjuntion with Sina's `SQLRecord` class\n",
    "\n",
    "## Setting up the problem\n",
    "\n",
    "To illsutrate how to use Sina records as sqlalchemy objects we are going to use a very simple example.\n",
    "\n",
    "We are going to create `simulation`-typed records in Sina. These records will only contain 2 data `simulation_name` and `status`. Where `simulation_name` is a `string` and `status` a `boolean`.\n",
    "\n",
    "Let's create a new store and put 20 records in it. The record ids will be 0 through 19.\n",
    "\n"
   ]
  },
  {
   "cell_type": "code",
   "execution_count": 1,
   "metadata": {},
   "outputs": [],
   "source": [
    "import sina\n",
    "from sina.model import Record\n",
    "\n",
    "# create store an empty store\n",
    "uri = 'orm.sqlite'\n",
    "store = sina.connect(uri)\n",
    "store.delete_all_contents(force=\"SKIP PROMPT\")\n",
    "\n",
    "# create dummy records\n",
    "for i in range(20):\n",
    "    rec = Record(f\"{i}\", \"sina\")\n",
    "    rec.add_data(\"simulation_name\", f\"sim_{i}\")\n",
    "    rec.add_data(\"status\", i % 2 == 0)\n",
    "    rec.add_data(\"score\", i + 0.5)\n",
    "    store.records.insert(rec)\n"
   ]
  },
  {
   "cell_type": "markdown",
   "metadata": {},
   "source": [
    "## Making Sina internal tables look like regular Sqlalchemy classes\n",
    "\n",
    "### Virtual columns\n",
    "\n",
    "Now if we where to look at the **orm.sqlite** store in a viewer the records will only show `id`, `type` and `raw` as columns. And our sqlalchemy wouldn't be able to ask anything about `simulation_name` or `status`\n",
    "\n",
    "In order to bypass we are using sqlalchemy's `virtual columns`.\n",
    "\n",
    "We need to create a new class containing the two virtual columns, using sqlalchemy's `hybrid_property`. "
   ]
  },
  {
   "cell_type": "code",
   "execution_count": 2,
   "metadata": {},
   "outputs": [],
   "source": [
    "from sina.datastores.sql_schema import Record as SQLRecord\n",
    "from sqlalchemy.ext.hybrid import hybrid_method, hybrid_property\n",
    "from sqlalchemy import Column\n",
    "from functools import partial\n",
    "\n",
    "# Now let's create our columns as hybrid_properties\n",
    "class Simulation(SQLRecord):\n",
    "    __sina_records = store.records\n",
    "    def get_column_from_sina_record(self, column_name):\n",
    "        rec = self.__sina_records.get(self.id)\n",
    "        return rec[\"data\"][column_name][\"value\"]\n",
    "    \n",
    "    @hybrid_method\n",
    "    def like_column_name(self, column_name, value):\n",
    "        pattern = '%\"'+column_name+'\":{\"value\":' + repr(value).replace(\"'\", \"\\\"\") + '}%'\n",
    "        return Column('raw').like(pattern)\n",
    "\n",
    "    def __init__(self, id, type, raw=None):\n",
    "        super().__init__(id, type, raw)\n",
    "\n",
    "for col_name in [\"simulation_name\", \"status\"]:\n",
    "    l = partial(Simulation.get_column_from_sina_record, column_name=col_name)\n",
    "    h = hybrid_property(l)\n",
    "    h.__name__ = col_name\n",
    "    setattr(Simulation, col_name, h)\n",
    "\n"
   ]
  },
  {
   "cell_type": "markdown",
   "metadata": {},
   "source": [
    "### Query methods\n",
    "\n",
    "Notice the addtion of the `like_column_name` which allows us the query on a column name. \n",
    "\n",
    "We can now query our Sina store using the regular sqlalchemy queries and the `like_column_name` function:\n",
    "\n",
    "For example let's ask for all simulation starting with `sim_1` or all the simulations that have a `True` status"
   ]
  },
  {
   "cell_type": "code",
   "execution_count": 3,
   "metadata": {},
   "outputs": [
    {
     "name": "stdout",
     "output_type": "stream",
     "text": [
      "All: [SQL Schema Record <id=3, type=sina>]\n",
      "3 sim_3 False\n",
      "All: [SQL Schema Record <id=1, type=sina>, SQL Schema Record <id=10, type=sina>, SQL Schema Record <id=11, type=sina>, SQL Schema Record <id=12, type=sina>, SQL Schema Record <id=13, type=sina>, SQL Schema Record <id=14, type=sina>, SQL Schema Record <id=15, type=sina>, SQL Schema Record <id=16, type=sina>, SQL Schema Record <id=17, type=sina>, SQL Schema Record <id=18, type=sina>, SQL Schema Record <id=19, type=sina>]\n",
      "1 sim_1 False\n",
      "10 sim_10 True\n",
      "11 sim_11 False\n",
      "12 sim_12 True\n",
      "13 sim_13 False\n",
      "14 sim_14 True\n",
      "15 sim_15 False\n",
      "16 sim_16 True\n",
      "17 sim_17 False\n",
      "18 sim_18 True\n",
      "19 sim_19 False\n",
      "All: [SQL Schema Record <id=0, type=sina>, SQL Schema Record <id=2, type=sina>, SQL Schema Record <id=4, type=sina>, SQL Schema Record <id=6, type=sina>, SQL Schema Record <id=8, type=sina>, SQL Schema Record <id=10, type=sina>, SQL Schema Record <id=12, type=sina>, SQL Schema Record <id=14, type=sina>, SQL Schema Record <id=16, type=sina>, SQL Schema Record <id=18, type=sina>]\n",
      "0 sim_0 True\n",
      "2 sim_2 True\n",
      "4 sim_4 True\n",
      "6 sim_6 True\n",
      "8 sim_8 True\n",
      "10 sim_10 True\n",
      "12 sim_12 True\n",
      "14 sim_14 True\n",
      "16 sim_16 True\n",
      "18 sim_18 True\n"
     ]
    }
   ],
   "source": [
    "from sqlalchemy import create_engine, select, and_\n",
    "from sqlalchemy.orm import sessionmaker\n",
    "engine = create_engine(f\"sqlite:///{uri}\")\n",
    "Session = sessionmaker(bind=engine)\n",
    "session = Session()\n",
    "\n",
    "results = session.query(Simulation).filter(Simulation.like_column_name(\"simulation_name\", \"sim_3\")).all()\n",
    "print(\"All:\",results)\n",
    "\n",
    "for obj in results:\n",
    "    print(obj.id, obj.simulation_name, obj.status)\n",
    "\n",
    "results = session.query(Simulation).filter(Simulation.like_column_name(\"simulation_name\", 'sim_1%')).all()\n",
    "print(\"All:\",results)\n",
    "\n",
    "for obj in results:\n",
    "    print(obj.id, obj.simulation_name, obj.status)\n",
    "results = session.query(Simulation).filter(Simulation.like_column_name(\"status\", True)).all()\n",
    "print(\"All:\",results)\n",
    "\n",
    "for obj in results:\n",
    "    print(obj.id, obj.simulation_name, obj.status)"
   ]
  },
  {
   "cell_type": "markdown",
   "metadata": {},
   "source": [
    "### Sina's implementation\n",
    "\n",
    "This could become tedious for Record with lots of data. Fortunately Sina provides a utility to automatically detect the possible column names: `sina.utils.make_sina_sqlalchemy_class` \n",
    "\n",
    "You can pass it a list of the column names to virtualize or simpy a Sina Record.\n",
    "\n",
    "In addition the class provides `greater_column_name`, `greater_equal_column_name`, `less_column_name`, `less_equal_column_name` that allow to filter on values of virtual column and require join.\n",
    "\n",
    "The following calls would have create the same class as above (plus the 4 functions above):"
   ]
  },
  {
   "cell_type": "code",
   "execution_count": 4,
   "metadata": {},
   "outputs": [
    {
     "name": "stdout",
     "output_type": "stream",
     "text": [
      "Results: SELECT \"Record\".id AS \"Record_id\", \"Record\".type AS \"Record_type\", \"Record\".raw AS \"Record_raw\" \n",
      "FROM \"Record\" JOIN \"ScalarData\" ON \"Record\".id = \"ScalarData\".id \n",
      "WHERE \"ScalarData\".name = ? AND \"ScalarData\".value > ?\n",
      "5 5.5\n",
      "6 6.5\n",
      "7 7.5\n",
      "8 8.5\n",
      "9 9.5\n",
      "10 10.5\n",
      "11 11.5\n",
      "12 12.5\n",
      "13 13.5\n",
      "14 14.5\n",
      "15 15.5\n",
      "16 16.5\n",
      "17 17.5\n",
      "18 18.5\n",
      "19 19.5\n"
     ]
    },
    {
     "name": "stderr",
     "output_type": "stream",
     "text": [
      "/usr/WS2/cdoutrix/mambaforge/envs/kosh/lib/python3.11/site-packages/sina/utils.py:1239: SAWarning: This declarative base already contains a class with the same class name and module name as sina.utils.SinaSQLAlchemy, and will be replaced in the string-lookup table.\n",
      "  class SinaSQLAlchemy(SQLRecord):\n"
     ]
    }
   ],
   "source": [
    "from sina.datastores.sql_schema import ScalarData\n",
    "Simulation = sina.utils.make_sina_sqlalchemy_class(store, [\"simulation_name\", \"status\", \"score\"])\n",
    "rec = store.records.get(\"1\")\n",
    "Simulation = sina.utils.make_sina_sqlalchemy_class(store, rec)\n",
    "\n",
    "results = session.query(Simulation).join(ScalarData).filter(Simulation.greater_column_name(\"score\", 5.))\n",
    "print(\"Results:\", results)\n",
    "for obj in results:\n",
    "    print(obj.id, obj.score)\n"
   ]
  },
  {
   "cell_type": "markdown",
   "metadata": {},
   "source": [
    "### Adding your own methods\n",
    "\n",
    "As mentioned above you might need to create special query function. In that instance you can use inheritance"
   ]
  },
  {
   "cell_type": "code",
   "execution_count": 5,
   "metadata": {},
   "outputs": [
    {
     "name": "stdout",
     "output_type": "stream",
     "text": [
      "Results: SELECT \"Record\".id AS \"Record_id\", \"Record\".type AS \"Record_type\", \"Record\".raw AS \"Record_raw\" \n",
      "FROM \"Record\" JOIN \"ScalarData\" ON \"Record\".id = \"ScalarData\".id \n",
      "WHERE \"ScalarData\".name = ? AND \"ScalarData\".value > ? AND \"ScalarData\".value < ?\n",
      "5 5.5\n",
      "6 6.5\n",
      "7 7.5\n"
     ]
    }
   ],
   "source": [
    "class SuperSim(Simulation):\n",
    "    def get_record(self):\n",
    "        return self.__sina_records.get(self.id)\n",
    "    @hybrid_method\n",
    "    def inbetween_column_name(self, column_name, value1, value2):\n",
    "        return and_(and_(ScalarData.name == column_name, ScalarData.value > value1), ScalarData.value < value2)\n",
    "results = session.query(SuperSim).join(ScalarData).filter(SuperSim.inbetween_column_name(\"score\", 5., 8.))\n",
    "print(\"Results:\", results)\n",
    "for obj in results:\n",
    "    print(obj.id, obj.score)\n"
   ]
  },
  {
   "cell_type": "markdown",
   "metadata": {},
   "source": [
    "## Bringing it all together: Mixing with non-sina tables\n",
    "\n",
    "At this point we now how to create classes on top of Sina Record class. It's now time to mix them with *regular* sqlaalchemy tables.\n",
    "\n",
    "### Introduction and IMPORTANT WARNING\n",
    "\n",
    "Sqlalchemy has a `Base` class to use for all custom implementations. Unfortunately\n",
    "\n",
    "```python\n",
    "from sqlalchemy.ext.declarative import declarative_base  # pylint: disable=import-error\n",
    "Base = declarative_base()\n",
    "```\n",
    "\n",
    "Can only be called once has the `Base` object will then collect informtion from classes created based on itself.\n",
    "\n",
    "So we ***MUST*** use Sina's `Base` class for all of our declarations\n",
    "\n",
    "In this example we are going to create a `Model` class that can be linked to some Sina `Simulation` created above. We will use the same store.\n",
    "\n",
    "### Creating the Model\n",
    "\n",
    "We are creating a Model class linked a simulation (Sina Record), the model also contains a `quality` column\n"
   ]
  },
  {
   "cell_type": "code",
   "execution_count": 6,
   "metadata": {},
   "outputs": [],
   "source": [
    "from sina.datastores.sql_schema import Base # IMPORTANT TO USE THIS Base since the Record table is already in there\n",
    "from sqlalchemy.orm import relationship\n",
    "from sqlalchemy import Float, Integer, ForeignKey, String\n",
    "\n",
    "class Model(Base):\n",
    "    __tablename__ = \"__models__\"\n",
    "    id = Column(Integer, primary_key=True) # Regular primary key\n",
    "    simulation_id = Column(String, ForeignKey(\"Record.id\"))  # Sina's Record primary key is a String\n",
    "    quality = Column(Float)\n",
    "\n",
    "    # Define the relationship with Sina table\n",
    "    simulation = relationship(\"Record\")\n",
    "\n"
   ]
  },
  {
   "cell_type": "markdown",
   "metadata": {},
   "source": [
    "Let's create the new table"
   ]
  },
  {
   "cell_type": "code",
   "execution_count": 7,
   "metadata": {},
   "outputs": [],
   "source": [
    "Base.metadata.create_all(engine)"
   ]
  },
  {
   "cell_type": "markdown",
   "metadata": {},
   "source": [
    "Ok now let's create a few models that will be linked to different Simulations"
   ]
  },
  {
   "cell_type": "code",
   "execution_count": 8,
   "metadata": {},
   "outputs": [],
   "source": [
    "model1 = Model(simulation_id=\"9\", quality=13.2) # sim score less than 10\n",
    "model2 = Model(simulation_id=\"11\", quality=4.8) # sim score greater than 10 but value less than 5\n",
    "model3 = Model(simulation_id=\"14\", quality=61.9) # simm core greater 10 and value greater 5\n",
    "model4 = Model(simulation_id=\"4\", quality=4.1)  # Add a model with score > 10 and value < 5\n",
    "\n",
    "session.add_all([model1, model2, model3, model4])"
   ]
  },
  {
   "cell_type": "markdown",
   "metadata": {},
   "source": [
    "### Important notes on linking to Sina records\n",
    "\n",
    "One could think that we could have created the simulations *links* and use this as follow:\n",
    "\n",
    "```python\n",
    "sim1 = Simulation(id=\"9\",type=\"sina\")\n",
    "model1 = Model(simulation=sim1, value=13.2) # sim score less than 10\n",
    "```\n",
    "\n",
    "While this code will work, we have noticed that at query time sqlalchemy will try to insert the `sim1` record into the database raising an error since they already exists.\n",
    "\n",
    "### Querying\n",
    "\n",
    "Ok now let's say we are interested in Models whose `quality` value is less than 5. but only if the `simulation` `score` is greater than 10.\n",
    "\n",
    "First let's get all the `Simulation`s of interest"
   ]
  },
  {
   "cell_type": "code",
   "execution_count": 9,
   "metadata": {},
   "outputs": [
    {
     "name": "stdout",
     "output_type": "stream",
     "text": [
      "11 11.5\n"
     ]
    }
   ],
   "source": [
    "\n",
    "query = session.query(Simulation).join(Model).filter(Model.quality < 5).join(ScalarData).filter(Simulation.greater_column_name(\"score\", 10.))\n",
    "results = query.all()\n",
    "\n",
    "for obj in results:\n",
    "    print(obj.id, obj.score)\n"
   ]
  },
  {
   "cell_type": "markdown",
   "metadata": {},
   "source": [
    "Now lt's get all the `Model`s that satisfy these condition"
   ]
  },
  {
   "cell_type": "code",
   "execution_count": 10,
   "metadata": {},
   "outputs": [
    {
     "name": "stdout",
     "output_type": "stream",
     "text": [
      "2 4.8\n"
     ]
    }
   ],
   "source": [
    "\n",
    "query = session.query(Model).filter(Model.quality < 5).join(Simulation).join(ScalarData).filter(Simulation.greater_column_name(\"score\", 10.))\n",
    "\n",
    "results = query.all()\n",
    "\n",
    "for obj in results:\n",
    "    print(obj.id, obj.quality)\n"
   ]
  }
 ],
 "metadata": {
  "kernelspec": {
   "display_name": "Python 3",
   "language": "python",
   "name": "python3"
  },
  "language_info": {
   "codemirror_mode": {
    "name": "ipython",
    "version": 3
   },
   "file_extension": ".py",
   "mimetype": "text/x-python",
   "name": "python",
   "nbconvert_exporter": "python",
   "pygments_lexer": "ipython3",
   "version": "3.11.3"
  }
 },
 "nbformat": 4,
 "nbformat_minor": 2
}
